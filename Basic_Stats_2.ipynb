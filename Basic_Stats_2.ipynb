{
  "nbformat": 4,
  "nbformat_minor": 0,
  "metadata": {
    "colab": {
      "provenance": []
    },
    "kernelspec": {
      "name": "python3",
      "display_name": "Python 3"
    },
    "language_info": {
      "name": "python"
    }
  },
  "cells": [
    {
      "cell_type": "markdown",
      "source": [
        "# Sharvari Lahane\n",
        "# Data Science - Batch May 2024 (Baner, Pune) - Assignment 2\n",
        "# Basic Stats - 2"
      ],
      "metadata": {
        "id": "SOB56Ow---tf"
      }
    },
    {
      "cell_type": "markdown",
      "source": [
        "**Task a: Build 99% Confidence Interval Using Sample Standard Deviation**"
      ],
      "metadata": {
        "id": "aIcFtwT_4b7e"
      }
    },
    {
      "cell_type": "markdown",
      "source": [
        "Step 1: Calculating the sample mean and sample standard deviation of the durability data."
      ],
      "metadata": {
        "id": "By4Er8Fk4rAm"
      }
    },
    {
      "cell_type": "markdown",
      "source": [
        "Defining Durability data"
      ],
      "metadata": {
        "id": "zTwu8Ray49fv"
      }
    },
    {
      "cell_type": "code",
      "source": [
        "import numpy as np"
      ],
      "metadata": {
        "id": "y5Lto92a5Jej"
      },
      "execution_count": 2,
      "outputs": []
    },
    {
      "cell_type": "code",
      "source": [
        "durability_data = np.array([1.13, 1.55, 1.43, 0.92, 1.25, 1.36, 1.32, 0.85, 1.07, 1.48, 1.20, 1.33, 1.18, 1.22, 1.29])"
      ],
      "metadata": {
        "id": "SrKBGHni4YLx"
      },
      "execution_count": 3,
      "outputs": []
    },
    {
      "cell_type": "code",
      "source": [
        "print(durability_data)"
      ],
      "metadata": {
        "colab": {
          "base_uri": "https://localhost:8080/"
        },
        "id": "UFUqm1hv4Y-f",
        "outputId": "d32fa9d4-0998-47a3-a5e0-915ebba613b0"
      },
      "execution_count": 4,
      "outputs": [
        {
          "output_type": "stream",
          "name": "stdout",
          "text": [
            "[1.13 1.55 1.43 0.92 1.25 1.36 1.32 0.85 1.07 1.48 1.2  1.33 1.18 1.22\n",
            " 1.29]\n"
          ]
        }
      ]
    },
    {
      "cell_type": "markdown",
      "source": [
        "Calculating sample Mean"
      ],
      "metadata": {
        "id": "ytnXG9Zc5Thw"
      }
    },
    {
      "cell_type": "code",
      "source": [
        "sample_mean = np.mean(durability_data)"
      ],
      "metadata": {
        "id": "vhYJOtTO5PfG"
      },
      "execution_count": 5,
      "outputs": []
    },
    {
      "cell_type": "code",
      "source": [
        "print(sample_mean)"
      ],
      "metadata": {
        "colab": {
          "base_uri": "https://localhost:8080/"
        },
        "id": "yACWOlM65gOb",
        "outputId": "1d54bdb4-fb83-419a-c6de-e68b8fb2e7f8"
      },
      "execution_count": 6,
      "outputs": [
        {
          "output_type": "stream",
          "name": "stdout",
          "text": [
            "1.2386666666666666\n"
          ]
        }
      ]
    },
    {
      "cell_type": "markdown",
      "source": [
        "Calculating sample Standard Deviation"
      ],
      "metadata": {
        "id": "Yv-vav_G5oHI"
      }
    },
    {
      "cell_type": "code",
      "source": [
        "sample_std_dev = np.std(durability_data, ddof=1)     #Here I have used ddof=1 for sample standard deviation"
      ],
      "metadata": {
        "id": "TKdZvOc45jFE"
      },
      "execution_count": 9,
      "outputs": []
    },
    {
      "cell_type": "code",
      "source": [
        "print(sample_std_dev)"
      ],
      "metadata": {
        "colab": {
          "base_uri": "https://localhost:8080/"
        },
        "id": "x0ut-8U756lb",
        "outputId": "5e4d2244-282c-48f0-f841-ec9e4f6b0132"
      },
      "execution_count": 10,
      "outputs": [
        {
          "output_type": "stream",
          "name": "stdout",
          "text": [
            "0.19316412956959936\n"
          ]
        }
      ]
    },
    {
      "cell_type": "markdown",
      "source": [
        "Step 2: Determining Degrees Of Freedom for the t-distribution"
      ],
      "metadata": {
        "id": "VtmdO6YK6wBV"
      }
    },
    {
      "cell_type": "code",
      "source": [
        "# Since I have a sample size of 15, the degrees of freedom is 14 (n-1)"
      ],
      "metadata": {
        "id": "kJSXOSMs6u4v"
      },
      "execution_count": 11,
      "outputs": []
    },
    {
      "cell_type": "code",
      "source": [
        "degrees_of_freedom = len(durability_data) - 1"
      ],
      "metadata": {
        "id": "WpFD1c2I5-1x"
      },
      "execution_count": 13,
      "outputs": []
    },
    {
      "cell_type": "code",
      "source": [
        "print(degrees_of_freedom)"
      ],
      "metadata": {
        "colab": {
          "base_uri": "https://localhost:8080/"
        },
        "id": "QbkfOYLf7MGe",
        "outputId": "759e068f-868d-4686-e869-576b6f65c625"
      },
      "execution_count": 14,
      "outputs": [
        {
          "output_type": "stream",
          "name": "stdout",
          "text": [
            "14\n"
          ]
        }
      ]
    },
    {
      "cell_type": "markdown",
      "source": [
        "Step 3: Choosing a confidence level of 99% and finding the corresponding critical t-value using a t-distribution table or calculator."
      ],
      "metadata": {
        "id": "pCMBzOu_9a8x"
      }
    },
    {
      "cell_type": "code",
      "source": [
        "from scipy.stats import t"
      ],
      "metadata": {
        "id": "HbCiG-df7Ow5"
      },
      "execution_count": 15,
      "outputs": []
    },
    {
      "cell_type": "markdown",
      "source": [
        "Defining the confidence level"
      ],
      "metadata": {
        "id": "E8JDar9H9uAO"
      }
    },
    {
      "cell_type": "code",
      "source": [
        "confidence_level = 0.99"
      ],
      "metadata": {
        "id": "5v8VQmk59ovU"
      },
      "execution_count": 16,
      "outputs": []
    },
    {
      "cell_type": "markdown",
      "source": [
        "Calculating the critical t-value"
      ],
      "metadata": {
        "id": "Cr6Mrmad902G"
      }
    },
    {
      "cell_type": "code",
      "source": [
        "critical_t_value = t.ppf((1 + confidence_level) / 2, degrees_of_freedom)\n",
        "print(critical_t_value)"
      ],
      "metadata": {
        "colab": {
          "base_uri": "https://localhost:8080/"
        },
        "id": "W_KsXQYr9xAY",
        "outputId": "906cbc5e-d545-4de0-cf6f-453bee849ae4"
      },
      "execution_count": 17,
      "outputs": [
        {
          "output_type": "stream",
          "name": "stdout",
          "text": [
            "2.976842734370834\n"
          ]
        }
      ]
    },
    {
      "cell_type": "markdown",
      "source": [
        "Step 4: Calculating margin of error using the critical t-value and sample standard deviation."
      ],
      "metadata": {
        "id": "4Yw54U_u-G_9"
      }
    },
    {
      "cell_type": "code",
      "source": [
        "margin_of_error = critical_t_value * (sample_std_dev / np.sqrt(len(durability_data)))\n",
        "print(margin_of_error)"
      ],
      "metadata": {
        "colab": {
          "base_uri": "https://localhost:8080/"
        },
        "id": "vL53eA8S98-o",
        "outputId": "29948ef9-99ad-49d3-8e03-8ffa6557f757"
      },
      "execution_count": 18,
      "outputs": [
        {
          "output_type": "stream",
          "name": "stdout",
          "text": [
            "0.14846932822817596\n"
          ]
        }
      ]
    },
    {
      "cell_type": "markdown",
      "source": [
        "Step 5: Constructing the 99% confidence interval by adding and subtracting the margin of error from the sample mean."
      ],
      "metadata": {
        "id": "ES70xTQC-dvU"
      }
    },
    {
      "cell_type": "code",
      "source": [
        "confidence_interval = (sample_mean - margin_of_error, sample_mean + margin_of_error)\n",
        "print(confidence_interval)"
      ],
      "metadata": {
        "colab": {
          "base_uri": "https://localhost:8080/"
        },
        "id": "ZHMVPAuH-YFJ",
        "outputId": "2b5ae118-c4f9-455f-9125-c6f8b40f5582"
      },
      "execution_count": 19,
      "outputs": [
        {
          "output_type": "stream",
          "name": "stdout",
          "text": [
            "(1.0901973384384906, 1.3871359948948425)\n"
          ]
        }
      ]
    },
    {
      "cell_type": "markdown",
      "source": [
        "**Task b: Build 99% Confidence Interval Using Known Population Standard Deviation**"
      ],
      "metadata": {
        "id": "xGmeqmCD_L5t"
      }
    },
    {
      "cell_type": "markdown",
      "source": [
        "Step 1: Calculating sample mean of the durability data."
      ],
      "metadata": {
        "id": "XxqLJoGK_XGt"
      }
    },
    {
      "cell_type": "code",
      "source": [
        "sample_mean = np.mean(durability_data)\n",
        "print(sample_mean)"
      ],
      "metadata": {
        "colab": {
          "base_uri": "https://localhost:8080/"
        },
        "id": "Rd4xHCtV-mDX",
        "outputId": "a61d648c-5198-4ec9-a976-a49a7c762de3"
      },
      "execution_count": 21,
      "outputs": [
        {
          "output_type": "stream",
          "name": "stdout",
          "text": [
            "1.2386666666666666\n"
          ]
        }
      ]
    },
    {
      "cell_type": "markdown",
      "source": [
        "Step 2: Choosing confidence level of 99% and find the corresponding critical z-value using a standard normal distribution table or calculator."
      ],
      "metadata": {
        "id": "bdvvMcn6_oBX"
      }
    },
    {
      "cell_type": "code",
      "source": [
        "from scipy.stats import norm"
      ],
      "metadata": {
        "id": "tYQf4OmV_h-3"
      },
      "execution_count": 22,
      "outputs": []
    },
    {
      "cell_type": "markdown",
      "source": [
        "Defining the Confidence Level"
      ],
      "metadata": {
        "id": "dnYWYwBF_0c_"
      }
    },
    {
      "cell_type": "code",
      "source": [
        "confidence_level = 0.99"
      ],
      "metadata": {
        "id": "Jj6HRHVO_waX"
      },
      "execution_count": 24,
      "outputs": []
    },
    {
      "cell_type": "markdown",
      "source": [
        "Calculating the critical z-value"
      ],
      "metadata": {
        "id": "52mifJySAA0l"
      }
    },
    {
      "cell_type": "code",
      "source": [
        "critical_z_value = norm.ppf((1 + confidence_level) / 2)\n",
        "print(critical_z_value)"
      ],
      "metadata": {
        "colab": {
          "base_uri": "https://localhost:8080/"
        },
        "id": "WMA5Xrwz_8YO",
        "outputId": "13581d7e-61a9-4039-9695-c6b3a8a99abd"
      },
      "execution_count": 25,
      "outputs": [
        {
          "output_type": "stream",
          "name": "stdout",
          "text": [
            "2.5758293035489004\n"
          ]
        }
      ]
    },
    {
      "cell_type": "markdown",
      "source": [
        "Step 3: Calculating the margin of error using the critical z-value and known population standard deviation."
      ],
      "metadata": {
        "id": "loIyZFbmANUL"
      }
    },
    {
      "cell_type": "code",
      "source": [
        "margin_of_error = critical_z_value * (0.2 / np.sqrt(len(durability_data)))\n",
        "print(margin_of_error)"
      ],
      "metadata": {
        "colab": {
          "base_uri": "https://localhost:8080/"
        },
        "id": "JeatBXFoAIp_",
        "outputId": "3ef1e9c6-9fe6-4787-f19e-c68afa825cad"
      },
      "execution_count": 26,
      "outputs": [
        {
          "output_type": "stream",
          "name": "stdout",
          "text": [
            "0.13301525327090588\n"
          ]
        }
      ]
    },
    {
      "cell_type": "markdown",
      "source": [
        "Step 4: Constructing the 99% confidence interval by adding and subtracting the margin of error from the sample mean."
      ],
      "metadata": {
        "id": "AIzAMcfNAklZ"
      }
    },
    {
      "cell_type": "code",
      "source": [
        "confidence_interval = (sample_mean - margin_of_error, sample_mean + margin_of_error)\n",
        "print(confidence_interval)"
      ],
      "metadata": {
        "colab": {
          "base_uri": "https://localhost:8080/"
        },
        "id": "mQBy_cpqAT7Z",
        "outputId": "d7e5e307-96bc-44c1-8319-4fa9b8dce00c"
      },
      "execution_count": 27,
      "outputs": [
        {
          "output_type": "stream",
          "name": "stdout",
          "text": [
            "(1.1056514133957607, 1.3716819199375725)\n"
          ]
        }
      ]
    }
  ]
}