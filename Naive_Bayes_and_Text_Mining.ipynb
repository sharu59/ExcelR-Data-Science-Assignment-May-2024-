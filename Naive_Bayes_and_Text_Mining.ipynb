{
 "cells": [
  {
   "cell_type": "markdown",
   "id": "d2e84fc4-1651-4b14-93a2-24a3bf7dc30e",
   "metadata": {},
   "source": [
    "# Sharvari Lahane\n",
    "# Data Science - Batch May 2024 (Baner, Pune) - Assignment 11\n",
    "# Naive Bayes and Text Mining"
   ]
  },
  {
   "cell_type": "markdown",
   "id": "2c4c6299-40c3-418a-baee-dbf48bd8fa5e",
   "metadata": {},
   "source": [
    "# Task 1: Data Exploration and Preprocessing"
   ]
  },
  {
   "cell_type": "markdown",
   "id": "d0e03735-566e-4df1-8e42-35d590ba5911",
   "metadata": {},
   "source": [
    "Importing Libraries"
   ]
  },
  {
   "cell_type": "code",
   "execution_count": 13,
   "id": "df36539c-029c-4935-8270-fc5c635c2cae",
   "metadata": {},
   "outputs": [],
   "source": [
    "import pandas as pd\n",
    "import numpy as np\n",
    "import re\n",
    "from nltk.tokenize import word_tokenize\n",
    "from nltk.corpus import stopwords\n",
    "from sklearn.feature_extraction.text import TfidfVectorizer"
   ]
  },
  {
   "cell_type": "markdown",
   "id": "03f8b59e-cf67-49b0-a0e1-2efd816afd32",
   "metadata": {},
   "source": [
    "Loading the dataset"
   ]
  },
  {
   "cell_type": "code",
   "execution_count": 17,
   "id": "9f577828-1a54-4fbc-b5e7-5173dbb17e67",
   "metadata": {},
   "outputs": [],
   "source": [
    "df = pd.read_csv('blogs.csv')"
   ]
  },
  {
   "cell_type": "code",
   "execution_count": 19,
   "id": "2e8f54e9-8f29-4d81-a9df-c26c3b339f8e",
   "metadata": {},
   "outputs": [
    {
     "data": {
      "text/html": [
       "<div>\n",
       "<style scoped>\n",
       "    .dataframe tbody tr th:only-of-type {\n",
       "        vertical-align: middle;\n",
       "    }\n",
       "\n",
       "    .dataframe tbody tr th {\n",
       "        vertical-align: top;\n",
       "    }\n",
       "\n",
       "    .dataframe thead th {\n",
       "        text-align: right;\n",
       "    }\n",
       "</style>\n",
       "<table border=\"1\" class=\"dataframe\">\n",
       "  <thead>\n",
       "    <tr style=\"text-align: right;\">\n",
       "      <th></th>\n",
       "      <th>Data</th>\n",
       "      <th>Labels</th>\n",
       "    </tr>\n",
       "  </thead>\n",
       "  <tbody>\n",
       "    <tr>\n",
       "      <th>0</th>\n",
       "      <td>Path: cantaloupe.srv.cs.cmu.edu!magnesium.club...</td>\n",
       "      <td>alt.atheism</td>\n",
       "    </tr>\n",
       "    <tr>\n",
       "      <th>1</th>\n",
       "      <td>Newsgroups: alt.atheism\\nPath: cantaloupe.srv....</td>\n",
       "      <td>alt.atheism</td>\n",
       "    </tr>\n",
       "    <tr>\n",
       "      <th>2</th>\n",
       "      <td>Path: cantaloupe.srv.cs.cmu.edu!das-news.harva...</td>\n",
       "      <td>alt.atheism</td>\n",
       "    </tr>\n",
       "    <tr>\n",
       "      <th>3</th>\n",
       "      <td>Path: cantaloupe.srv.cs.cmu.edu!magnesium.club...</td>\n",
       "      <td>alt.atheism</td>\n",
       "    </tr>\n",
       "    <tr>\n",
       "      <th>4</th>\n",
       "      <td>Xref: cantaloupe.srv.cs.cmu.edu alt.atheism:53...</td>\n",
       "      <td>alt.atheism</td>\n",
       "    </tr>\n",
       "    <tr>\n",
       "      <th>...</th>\n",
       "      <td>...</td>\n",
       "      <td>...</td>\n",
       "    </tr>\n",
       "    <tr>\n",
       "      <th>1995</th>\n",
       "      <td>Xref: cantaloupe.srv.cs.cmu.edu talk.abortion:...</td>\n",
       "      <td>talk.religion.misc</td>\n",
       "    </tr>\n",
       "    <tr>\n",
       "      <th>1996</th>\n",
       "      <td>Xref: cantaloupe.srv.cs.cmu.edu talk.religion....</td>\n",
       "      <td>talk.religion.misc</td>\n",
       "    </tr>\n",
       "    <tr>\n",
       "      <th>1997</th>\n",
       "      <td>Xref: cantaloupe.srv.cs.cmu.edu talk.origins:4...</td>\n",
       "      <td>talk.religion.misc</td>\n",
       "    </tr>\n",
       "    <tr>\n",
       "      <th>1998</th>\n",
       "      <td>Xref: cantaloupe.srv.cs.cmu.edu talk.religion....</td>\n",
       "      <td>talk.religion.misc</td>\n",
       "    </tr>\n",
       "    <tr>\n",
       "      <th>1999</th>\n",
       "      <td>Xref: cantaloupe.srv.cs.cmu.edu sci.skeptic:43...</td>\n",
       "      <td>talk.religion.misc</td>\n",
       "    </tr>\n",
       "  </tbody>\n",
       "</table>\n",
       "<p>2000 rows × 2 columns</p>\n",
       "</div>"
      ],
      "text/plain": [
       "                                                   Data              Labels\n",
       "0     Path: cantaloupe.srv.cs.cmu.edu!magnesium.club...         alt.atheism\n",
       "1     Newsgroups: alt.atheism\\nPath: cantaloupe.srv....         alt.atheism\n",
       "2     Path: cantaloupe.srv.cs.cmu.edu!das-news.harva...         alt.atheism\n",
       "3     Path: cantaloupe.srv.cs.cmu.edu!magnesium.club...         alt.atheism\n",
       "4     Xref: cantaloupe.srv.cs.cmu.edu alt.atheism:53...         alt.atheism\n",
       "...                                                 ...                 ...\n",
       "1995  Xref: cantaloupe.srv.cs.cmu.edu talk.abortion:...  talk.religion.misc\n",
       "1996  Xref: cantaloupe.srv.cs.cmu.edu talk.religion....  talk.religion.misc\n",
       "1997  Xref: cantaloupe.srv.cs.cmu.edu talk.origins:4...  talk.religion.misc\n",
       "1998  Xref: cantaloupe.srv.cs.cmu.edu talk.religion....  talk.religion.misc\n",
       "1999  Xref: cantaloupe.srv.cs.cmu.edu sci.skeptic:43...  talk.religion.misc\n",
       "\n",
       "[2000 rows x 2 columns]"
      ]
     },
     "execution_count": 19,
     "metadata": {},
     "output_type": "execute_result"
    }
   ],
   "source": [
    "df"
   ]
  },
  {
   "cell_type": "code",
   "execution_count": 11,
   "id": "00076567-7a8c-4033-aa01-13c9a616c980",
   "metadata": {},
   "outputs": [
    {
     "data": {
      "text/plain": [
       "Index(['Data', 'Labels'], dtype='object')"
      ]
     },
     "execution_count": 11,
     "metadata": {},
     "output_type": "execute_result"
    }
   ],
   "source": [
    "df.columns"
   ]
  },
  {
   "cell_type": "markdown",
   "id": "51759375-8893-46b7-939c-e0ec8de38670",
   "metadata": {},
   "source": [
    "View the first few rows of the dataset"
   ]
  },
  {
   "cell_type": "code",
   "execution_count": 23,
   "id": "ac2aee1c-d2c4-4726-a3b0-e1597ec6cfce",
   "metadata": {},
   "outputs": [
    {
     "data": {
      "text/html": [
       "<div>\n",
       "<style scoped>\n",
       "    .dataframe tbody tr th:only-of-type {\n",
       "        vertical-align: middle;\n",
       "    }\n",
       "\n",
       "    .dataframe tbody tr th {\n",
       "        vertical-align: top;\n",
       "    }\n",
       "\n",
       "    .dataframe thead th {\n",
       "        text-align: right;\n",
       "    }\n",
       "</style>\n",
       "<table border=\"1\" class=\"dataframe\">\n",
       "  <thead>\n",
       "    <tr style=\"text-align: right;\">\n",
       "      <th></th>\n",
       "      <th>Data</th>\n",
       "      <th>Labels</th>\n",
       "    </tr>\n",
       "  </thead>\n",
       "  <tbody>\n",
       "    <tr>\n",
       "      <th>0</th>\n",
       "      <td>Path: cantaloupe.srv.cs.cmu.edu!magnesium.club...</td>\n",
       "      <td>alt.atheism</td>\n",
       "    </tr>\n",
       "    <tr>\n",
       "      <th>1</th>\n",
       "      <td>Newsgroups: alt.atheism\\nPath: cantaloupe.srv....</td>\n",
       "      <td>alt.atheism</td>\n",
       "    </tr>\n",
       "    <tr>\n",
       "      <th>2</th>\n",
       "      <td>Path: cantaloupe.srv.cs.cmu.edu!das-news.harva...</td>\n",
       "      <td>alt.atheism</td>\n",
       "    </tr>\n",
       "    <tr>\n",
       "      <th>3</th>\n",
       "      <td>Path: cantaloupe.srv.cs.cmu.edu!magnesium.club...</td>\n",
       "      <td>alt.atheism</td>\n",
       "    </tr>\n",
       "    <tr>\n",
       "      <th>4</th>\n",
       "      <td>Xref: cantaloupe.srv.cs.cmu.edu alt.atheism:53...</td>\n",
       "      <td>alt.atheism</td>\n",
       "    </tr>\n",
       "  </tbody>\n",
       "</table>\n",
       "</div>"
      ],
      "text/plain": [
       "                                                Data       Labels\n",
       "0  Path: cantaloupe.srv.cs.cmu.edu!magnesium.club...  alt.atheism\n",
       "1  Newsgroups: alt.atheism\\nPath: cantaloupe.srv....  alt.atheism\n",
       "2  Path: cantaloupe.srv.cs.cmu.edu!das-news.harva...  alt.atheism\n",
       "3  Path: cantaloupe.srv.cs.cmu.edu!magnesium.club...  alt.atheism\n",
       "4  Xref: cantaloupe.srv.cs.cmu.edu alt.atheism:53...  alt.atheism"
      ]
     },
     "execution_count": 23,
     "metadata": {},
     "output_type": "execute_result"
    }
   ],
   "source": [
    "df.head()"
   ]
  },
  {
   "cell_type": "markdown",
   "id": "ef4539c4-eb47-41cb-993b-9b3ba373d95c",
   "metadata": {},
   "source": [
    "View the dataset's structure and summary statistics"
   ]
  },
  {
   "cell_type": "code",
   "execution_count": 32,
   "id": "e954d78e-a63e-41ab-9788-b908f98c0a68",
   "metadata": {},
   "outputs": [
    {
     "name": "stdout",
     "output_type": "stream",
     "text": [
      "<class 'pandas.core.frame.DataFrame'>\n",
      "RangeIndex: 2000 entries, 0 to 1999\n",
      "Data columns (total 2 columns):\n",
      " #   Column  Non-Null Count  Dtype \n",
      "---  ------  --------------  ----- \n",
      " 0   Data    2000 non-null   object\n",
      " 1   Labels  2000 non-null   object\n",
      "dtypes: object(2)\n",
      "memory usage: 31.4+ KB\n",
      "None\n"
     ]
    }
   ],
   "source": [
    "print(df.info())"
   ]
  },
  {
   "cell_type": "markdown",
   "id": "5f123d08-b885-4d8d-8050-4ae1fdcc0198",
   "metadata": {},
   "source": [
    "View summary statistics for the dataset"
   ]
  },
  {
   "cell_type": "code",
   "execution_count": 36,
   "id": "43af1588-84ed-43d6-886e-1bac022f3b01",
   "metadata": {},
   "outputs": [
    {
     "data": {
      "text/html": [
       "<div>\n",
       "<style scoped>\n",
       "    .dataframe tbody tr th:only-of-type {\n",
       "        vertical-align: middle;\n",
       "    }\n",
       "\n",
       "    .dataframe tbody tr th {\n",
       "        vertical-align: top;\n",
       "    }\n",
       "\n",
       "    .dataframe thead th {\n",
       "        text-align: right;\n",
       "    }\n",
       "</style>\n",
       "<table border=\"1\" class=\"dataframe\">\n",
       "  <thead>\n",
       "    <tr style=\"text-align: right;\">\n",
       "      <th></th>\n",
       "      <th>Data</th>\n",
       "      <th>Labels</th>\n",
       "    </tr>\n",
       "  </thead>\n",
       "  <tbody>\n",
       "    <tr>\n",
       "      <th>count</th>\n",
       "      <td>2000</td>\n",
       "      <td>2000</td>\n",
       "    </tr>\n",
       "    <tr>\n",
       "      <th>unique</th>\n",
       "      <td>2000</td>\n",
       "      <td>20</td>\n",
       "    </tr>\n",
       "    <tr>\n",
       "      <th>top</th>\n",
       "      <td>Path: cantaloupe.srv.cs.cmu.edu!magnesium.club...</td>\n",
       "      <td>alt.atheism</td>\n",
       "    </tr>\n",
       "    <tr>\n",
       "      <th>freq</th>\n",
       "      <td>1</td>\n",
       "      <td>100</td>\n",
       "    </tr>\n",
       "  </tbody>\n",
       "</table>\n",
       "</div>"
      ],
      "text/plain": [
       "                                                     Data       Labels\n",
       "count                                                2000         2000\n",
       "unique                                               2000           20\n",
       "top     Path: cantaloupe.srv.cs.cmu.edu!magnesium.club...  alt.atheism\n",
       "freq                                                    1          100"
      ]
     },
     "execution_count": 36,
     "metadata": {},
     "output_type": "execute_result"
    }
   ],
   "source": [
    "df.describe()"
   ]
  },
  {
   "cell_type": "markdown",
   "id": "9c4717c5-3542-407c-b98f-930cc26e2dea",
   "metadata": {},
   "source": [
    "View the distribution of labels"
   ]
  },
  {
   "cell_type": "code",
   "execution_count": 38,
   "id": "2357ae0f-e96e-4c8d-bcac-81ead9610e9b",
   "metadata": {},
   "outputs": [
    {
     "data": {
      "text/plain": [
       "alt.atheism                 100\n",
       "comp.graphics               100\n",
       "talk.politics.misc          100\n",
       "talk.politics.mideast       100\n",
       "talk.politics.guns          100\n",
       "soc.religion.christian      100\n",
       "sci.space                   100\n",
       "sci.med                     100\n",
       "sci.electronics             100\n",
       "sci.crypt                   100\n",
       "rec.sport.hockey            100\n",
       "rec.sport.baseball          100\n",
       "rec.motorcycles             100\n",
       "rec.autos                   100\n",
       "misc.forsale                100\n",
       "comp.windows.x              100\n",
       "comp.sys.mac.hardware       100\n",
       "comp.sys.ibm.pc.hardware    100\n",
       "comp.os.ms-windows.misc     100\n",
       "talk.religion.misc          100\n",
       "Name: Labels, dtype: int64"
      ]
     },
     "execution_count": 38,
     "metadata": {},
     "output_type": "execute_result"
    }
   ],
   "source": [
    "df['Labels'].value_counts()"
   ]
  },
  {
   "cell_type": "markdown",
   "id": "56459fed-2a16-4d68-814c-3f4a0bd80e6c",
   "metadata": {},
   "source": [
    "Preprocessing the data"
   ]
  },
  {
   "cell_type": "code",
   "execution_count": 46,
   "id": "17782a41-3a58-4dc2-a993-ad18cca4dc4b",
   "metadata": {},
   "outputs": [
    {
     "data": {
      "text/plain": [
       "{'a',\n",
       " 'about',\n",
       " 'above',\n",
       " 'after',\n",
       " 'again',\n",
       " 'against',\n",
       " 'ain',\n",
       " 'all',\n",
       " 'am',\n",
       " 'an',\n",
       " 'and',\n",
       " 'any',\n",
       " 'are',\n",
       " 'aren',\n",
       " \"aren't\",\n",
       " 'as',\n",
       " 'at',\n",
       " 'be',\n",
       " 'because',\n",
       " 'been',\n",
       " 'before',\n",
       " 'being',\n",
       " 'below',\n",
       " 'between',\n",
       " 'both',\n",
       " 'but',\n",
       " 'by',\n",
       " 'can',\n",
       " 'couldn',\n",
       " \"couldn't\",\n",
       " 'd',\n",
       " 'did',\n",
       " 'didn',\n",
       " \"didn't\",\n",
       " 'do',\n",
       " 'does',\n",
       " 'doesn',\n",
       " \"doesn't\",\n",
       " 'doing',\n",
       " 'don',\n",
       " \"don't\",\n",
       " 'down',\n",
       " 'during',\n",
       " 'each',\n",
       " 'few',\n",
       " 'for',\n",
       " 'from',\n",
       " 'further',\n",
       " 'had',\n",
       " 'hadn',\n",
       " \"hadn't\",\n",
       " 'has',\n",
       " 'hasn',\n",
       " \"hasn't\",\n",
       " 'have',\n",
       " 'haven',\n",
       " \"haven't\",\n",
       " 'having',\n",
       " 'he',\n",
       " 'her',\n",
       " 'here',\n",
       " 'hers',\n",
       " 'herself',\n",
       " 'him',\n",
       " 'himself',\n",
       " 'his',\n",
       " 'how',\n",
       " 'i',\n",
       " 'if',\n",
       " 'in',\n",
       " 'into',\n",
       " 'is',\n",
       " 'isn',\n",
       " \"isn't\",\n",
       " 'it',\n",
       " \"it's\",\n",
       " 'its',\n",
       " 'itself',\n",
       " 'just',\n",
       " 'll',\n",
       " 'm',\n",
       " 'ma',\n",
       " 'me',\n",
       " 'mightn',\n",
       " \"mightn't\",\n",
       " 'more',\n",
       " 'most',\n",
       " 'mustn',\n",
       " \"mustn't\",\n",
       " 'my',\n",
       " 'myself',\n",
       " 'needn',\n",
       " \"needn't\",\n",
       " 'no',\n",
       " 'nor',\n",
       " 'not',\n",
       " 'now',\n",
       " 'o',\n",
       " 'of',\n",
       " 'off',\n",
       " 'on',\n",
       " 'once',\n",
       " 'only',\n",
       " 'or',\n",
       " 'other',\n",
       " 'our',\n",
       " 'ours',\n",
       " 'ourselves',\n",
       " 'out',\n",
       " 'over',\n",
       " 'own',\n",
       " 're',\n",
       " 's',\n",
       " 'same',\n",
       " 'shan',\n",
       " \"shan't\",\n",
       " 'she',\n",
       " \"she's\",\n",
       " 'should',\n",
       " \"should've\",\n",
       " 'shouldn',\n",
       " \"shouldn't\",\n",
       " 'so',\n",
       " 'some',\n",
       " 'such',\n",
       " 't',\n",
       " 'than',\n",
       " 'that',\n",
       " \"that'll\",\n",
       " 'the',\n",
       " 'their',\n",
       " 'theirs',\n",
       " 'them',\n",
       " 'themselves',\n",
       " 'then',\n",
       " 'there',\n",
       " 'these',\n",
       " 'they',\n",
       " 'this',\n",
       " 'those',\n",
       " 'through',\n",
       " 'to',\n",
       " 'too',\n",
       " 'under',\n",
       " 'until',\n",
       " 'up',\n",
       " 've',\n",
       " 'very',\n",
       " 'was',\n",
       " 'wasn',\n",
       " \"wasn't\",\n",
       " 'we',\n",
       " 'were',\n",
       " 'weren',\n",
       " \"weren't\",\n",
       " 'what',\n",
       " 'when',\n",
       " 'where',\n",
       " 'which',\n",
       " 'while',\n",
       " 'who',\n",
       " 'whom',\n",
       " 'why',\n",
       " 'will',\n",
       " 'with',\n",
       " 'won',\n",
       " \"won't\",\n",
       " 'wouldn',\n",
       " \"wouldn't\",\n",
       " 'y',\n",
       " 'you',\n",
       " \"you'd\",\n",
       " \"you'll\",\n",
       " \"you're\",\n",
       " \"you've\",\n",
       " 'your',\n",
       " 'yours',\n",
       " 'yourself',\n",
       " 'yourselves'}"
      ]
     },
     "execution_count": 46,
     "metadata": {},
     "output_type": "execute_result"
    }
   ],
   "source": [
    "stop_words = set(stopwords.words('english'))\n",
    "stop_words "
   ]
  },
  {
   "cell_type": "code",
   "execution_count": 48,
   "id": "e5f1e844-9352-46d5-b156-ccfcdb634e22",
   "metadata": {},
   "outputs": [],
   "source": [
    "def preprocess_text(text):\n",
    "    text = text.lower()  # convert to lowercase\n",
    "    text = re.sub(r'[^\\w\\s]', '', text)  # remove punctuation\n",
    "    tokens = word_tokenize(text)  # tokenize the text\n",
    "    tokens = [token for token in tokens if token not in stop_words]  # remove stopwords\n",
    "    return ' '.join(tokens)"
   ]
  },
  {
   "cell_type": "code",
   "execution_count": 54,
   "id": "6b9766b5-2ac4-47ea-8447-c8d42aa98bf5",
   "metadata": {},
   "outputs": [],
   "source": [
    "df['Data'] = df['Data'].apply(preprocess_text)"
   ]
  },
  {
   "cell_type": "code",
   "execution_count": 56,
   "id": "0adcb77d-410e-4e23-a80d-426b515740ad",
   "metadata": {},
   "outputs": [
    {
     "data": {
      "text/plain": [
       "0       path cantaloupesrvcscmuedumagnesiumclubcccmued...\n",
       "1       newsgroups altatheism path cantaloupesrvcscmue...\n",
       "2       path cantaloupesrvcscmuedudasnewsharvardedunoc...\n",
       "3       path cantaloupesrvcscmuedumagnesiumclubcccmued...\n",
       "4       xref cantaloupesrvcscmuedu altatheism53485 tal...\n",
       "                              ...                        \n",
       "1995    xref cantaloupesrvcscmuedu talkabortion120945 ...\n",
       "1996    xref cantaloupesrvcscmuedu talkreligionmisc837...\n",
       "1997    xref cantaloupesrvcscmuedu talkorigins41030 ta...\n",
       "1998    xref cantaloupesrvcscmuedu talkreligionmisc836...\n",
       "1999    xref cantaloupesrvcscmuedu sciskeptic43561 tal...\n",
       "Name: Data, Length: 2000, dtype: object"
      ]
     },
     "execution_count": 56,
     "metadata": {},
     "output_type": "execute_result"
    }
   ],
   "source": [
    "df['Data']"
   ]
  },
  {
   "cell_type": "markdown",
   "id": "5e129d1d-aba6-40e3-99d5-bf6ff1b8c665",
   "metadata": {},
   "source": [
    "Performing feature extraction using TF-IDF"
   ]
  },
  {
   "cell_type": "code",
   "execution_count": 59,
   "id": "68cccf45-6f79-4754-a463-cf4d0bc98385",
   "metadata": {},
   "outputs": [],
   "source": [
    "vectorizer = TfidfVectorizer()\n",
    "X = vectorizer.fit_transform(df['Data'])\n",
    "Y = df['Labels']"
   ]
  },
  {
   "cell_type": "code",
   "execution_count": 61,
   "id": "59f69795-9703-4a82-9982-e5920d0c7868",
   "metadata": {},
   "outputs": [
    {
     "data": {
      "text/plain": [
       "<2000x56710 sparse matrix of type '<class 'numpy.float64'>'\n",
       "\twith 268380 stored elements in Compressed Sparse Row format>"
      ]
     },
     "execution_count": 61,
     "metadata": {},
     "output_type": "execute_result"
    }
   ],
   "source": [
    "X"
   ]
  },
  {
   "cell_type": "code",
   "execution_count": 63,
   "id": "7ff3bd12-fa52-4c7f-b165-e32206d45dda",
   "metadata": {},
   "outputs": [
    {
     "data": {
      "text/plain": [
       "0              alt.atheism\n",
       "1              alt.atheism\n",
       "2              alt.atheism\n",
       "3              alt.atheism\n",
       "4              alt.atheism\n",
       "               ...        \n",
       "1995    talk.religion.misc\n",
       "1996    talk.religion.misc\n",
       "1997    talk.religion.misc\n",
       "1998    talk.religion.misc\n",
       "1999    talk.religion.misc\n",
       "Name: Labels, Length: 2000, dtype: object"
      ]
     },
     "execution_count": 63,
     "metadata": {},
     "output_type": "execute_result"
    }
   ],
   "source": [
    "Y"
   ]
  },
  {
   "cell_type": "markdown",
   "id": "9717fa6d-5970-4321-a388-814400ad8676",
   "metadata": {},
   "source": [
    "View the shape of the feature matrix"
   ]
  },
  {
   "cell_type": "code",
   "execution_count": 65,
   "id": "54a8ba7d-be22-4275-b55d-e462fc266e98",
   "metadata": {},
   "outputs": [
    {
     "name": "stdout",
     "output_type": "stream",
     "text": [
      "(2000, 56710)\n"
     ]
    }
   ],
   "source": [
    "print(X.shape)"
   ]
  },
  {
   "cell_type": "markdown",
   "id": "c0fe6e4d-880e-474a-85a8-05cbec85db03",
   "metadata": {},
   "source": [
    "View the shape of the label vector"
   ]
  },
  {
   "cell_type": "code",
   "execution_count": 69,
   "id": "3657e631-67b3-4678-84ed-55fde5001d54",
   "metadata": {},
   "outputs": [
    {
     "name": "stdout",
     "output_type": "stream",
     "text": [
      "(2000,)\n"
     ]
    }
   ],
   "source": [
    "print(Y.shape)"
   ]
  },
  {
   "cell_type": "markdown",
   "id": "6c10b15b-fd3b-4d98-8352-e33d9a7d3b92",
   "metadata": {},
   "source": [
    "# Task 2: Naive Bayes Model for Text Classification"
   ]
  },
  {
   "cell_type": "code",
   "execution_count": 73,
   "id": "ee50ef31-7cbc-4da8-afad-c6d3212fa1fb",
   "metadata": {},
   "outputs": [],
   "source": [
    "import pandas as pd\n",
    "from sklearn.model_selection import train_test_split\n",
    "from sklearn.naive_bayes import MultinomialNB\n",
    "from sklearn.metrics import accuracy_score, classification_report, confusion_matrix"
   ]
  },
  {
   "cell_type": "markdown",
   "id": "88fbc640-3171-4661-86e8-c583046e8436",
   "metadata": {},
   "source": [
    "Splitting the data into training and test sets"
   ]
  },
  {
   "cell_type": "code",
   "execution_count": 76,
   "id": "7266a1b6-5f33-4b72-909a-773a2548cb55",
   "metadata": {},
   "outputs": [],
   "source": [
    "X = df['Data']\n",
    "Y = df['Labels']\n",
    "X_train, X_test, Y_train, Y_test = train_test_split(X, Y, test_size=0.2, random_state=42)"
   ]
  },
  {
   "cell_type": "code",
   "execution_count": 78,
   "id": "f7838418-d596-4891-9fbc-774a89e45793",
   "metadata": {},
   "outputs": [
    {
     "data": {
      "text/plain": [
       "0       path cantaloupesrvcscmuedumagnesiumclubcccmued...\n",
       "1       newsgroups altatheism path cantaloupesrvcscmue...\n",
       "2       path cantaloupesrvcscmuedudasnewsharvardedunoc...\n",
       "3       path cantaloupesrvcscmuedumagnesiumclubcccmued...\n",
       "4       xref cantaloupesrvcscmuedu altatheism53485 tal...\n",
       "                              ...                        \n",
       "1995    xref cantaloupesrvcscmuedu talkabortion120945 ...\n",
       "1996    xref cantaloupesrvcscmuedu talkreligionmisc837...\n",
       "1997    xref cantaloupesrvcscmuedu talkorigins41030 ta...\n",
       "1998    xref cantaloupesrvcscmuedu talkreligionmisc836...\n",
       "1999    xref cantaloupesrvcscmuedu sciskeptic43561 tal...\n",
       "Name: Data, Length: 2000, dtype: object"
      ]
     },
     "execution_count": 78,
     "metadata": {},
     "output_type": "execute_result"
    }
   ],
   "source": [
    "X"
   ]
  },
  {
   "cell_type": "code",
   "execution_count": 80,
   "id": "c5521398-428b-4cda-91a2-1cb3f749a417",
   "metadata": {},
   "outputs": [
    {
     "data": {
      "text/plain": [
       "0              alt.atheism\n",
       "1              alt.atheism\n",
       "2              alt.atheism\n",
       "3              alt.atheism\n",
       "4              alt.atheism\n",
       "               ...        \n",
       "1995    talk.religion.misc\n",
       "1996    talk.religion.misc\n",
       "1997    talk.religion.misc\n",
       "1998    talk.religion.misc\n",
       "1999    talk.religion.misc\n",
       "Name: Labels, Length: 2000, dtype: object"
      ]
     },
     "execution_count": 80,
     "metadata": {},
     "output_type": "execute_result"
    }
   ],
   "source": [
    "Y"
   ]
  },
  {
   "cell_type": "code",
   "execution_count": 82,
   "id": "ccc96d67-5030-4b72-b116-3c4f9188bc02",
   "metadata": {},
   "outputs": [
    {
     "data": {
      "text/plain": [
       "968     path cantaloupesrvcscmueducrabapplesrvcscmuedu...\n",
       "240     xref cantaloupesrvcscmuedu compunixmisc8273 co...\n",
       "819     path cantaloupesrvcscmuedurochestercornellbatc...\n",
       "692     path cantaloupesrvcscmuedurochesterudelgatechh...\n",
       "420     newsgroups compsysmachardware path cantaloupes...\n",
       "                              ...                        \n",
       "1130    path cantaloupesrvcscmuedurochesterudelnewsint...\n",
       "1294    xref cantaloupesrvcscmuedu soccultureusa14270 ...\n",
       "860     newsgroups recmotorcycles path cantaloupesrvcs...\n",
       "1459    newsgroups scispace path cantaloupesrvcscmuedu...\n",
       "1126    newsgroups scicrypt path cantaloupesrvcscmuedu...\n",
       "Name: Data, Length: 1600, dtype: object"
      ]
     },
     "execution_count": 82,
     "metadata": {},
     "output_type": "execute_result"
    }
   ],
   "source": [
    "X_train"
   ]
  },
  {
   "cell_type": "code",
   "execution_count": 84,
   "id": "32ee72b8-883d-4dfa-b6d1-1c8d88ab7052",
   "metadata": {},
   "outputs": [
    {
     "data": {
      "text/plain": [
       "1860    xref cantaloupesrvcscmuedu mischeadlines41725 ...\n",
       "353     newsgroups compsysibmpchardware path cantaloup...\n",
       "1333    xref cantaloupesrvcscmuedu scienergy15692 scii...\n",
       "905     newsgroups recsportbaseball path cantaloupesrv...\n",
       "1289    newsgroups scielectronics path cantaloupesrvcs...\n",
       "                              ...                        \n",
       "965     path cantaloupesrvcscmuedumagnesiumclubcccmued...\n",
       "1284    newsgroups scielectronics path cantaloupesrvcs...\n",
       "1739    path cantaloupesrvcscmuedudasnewsharvardedunoc...\n",
       "261     xref cantaloupesrvcscmuedu composmswindowsapps...\n",
       "535     path cantaloupesrvcscmueducrabapplesrvcscmuedu...\n",
       "Name: Data, Length: 400, dtype: object"
      ]
     },
     "execution_count": 84,
     "metadata": {},
     "output_type": "execute_result"
    }
   ],
   "source": [
    "X_test"
   ]
  },
  {
   "cell_type": "code",
   "execution_count": 86,
   "id": "54e32ccc-cca1-4c8c-b981-32fe2d067e7f",
   "metadata": {},
   "outputs": [
    {
     "data": {
      "text/plain": [
       "968          rec.sport.baseball\n",
       "240     comp.os.ms-windows.misc\n",
       "819             rec.motorcycles\n",
       "692                misc.forsale\n",
       "420       comp.sys.mac.hardware\n",
       "                 ...           \n",
       "1130                  sci.crypt\n",
       "1294            sci.electronics\n",
       "860             rec.motorcycles\n",
       "1459                  sci.space\n",
       "1126                  sci.crypt\n",
       "Name: Labels, Length: 1600, dtype: object"
      ]
     },
     "execution_count": 86,
     "metadata": {},
     "output_type": "execute_result"
    }
   ],
   "source": [
    "Y_train"
   ]
  },
  {
   "cell_type": "code",
   "execution_count": 88,
   "id": "87577a52-dd5b-4490-a084-084604ca68a5",
   "metadata": {},
   "outputs": [
    {
     "data": {
      "text/plain": [
       "1860          talk.politics.misc\n",
       "353     comp.sys.ibm.pc.hardware\n",
       "1333                     sci.med\n",
       "905           rec.sport.baseball\n",
       "1289             sci.electronics\n",
       "                  ...           \n",
       "965           rec.sport.baseball\n",
       "1284             sci.electronics\n",
       "1739       talk.politics.mideast\n",
       "261      comp.os.ms-windows.misc\n",
       "535               comp.windows.x\n",
       "Name: Labels, Length: 400, dtype: object"
      ]
     },
     "execution_count": 88,
     "metadata": {},
     "output_type": "execute_result"
    }
   ],
   "source": [
    "Y_test"
   ]
  },
  {
   "cell_type": "markdown",
   "id": "ddbf5b4c-8ffc-4696-b145-ee8cee10a9ff",
   "metadata": {},
   "source": [
    "Implementing a Naive Bayes classifier"
   ]
  },
  {
   "cell_type": "code",
   "execution_count": 91,
   "id": "7095bbe6-bc01-4395-a525-021da66d0033",
   "metadata": {},
   "outputs": [
    {
     "data": {
      "text/html": [
       "<style>#sk-container-id-1 {color: black;background-color: white;}#sk-container-id-1 pre{padding: 0;}#sk-container-id-1 div.sk-toggleable {background-color: white;}#sk-container-id-1 label.sk-toggleable__label {cursor: pointer;display: block;width: 100%;margin-bottom: 0;padding: 0.3em;box-sizing: border-box;text-align: center;}#sk-container-id-1 label.sk-toggleable__label-arrow:before {content: \"▸\";float: left;margin-right: 0.25em;color: #696969;}#sk-container-id-1 label.sk-toggleable__label-arrow:hover:before {color: black;}#sk-container-id-1 div.sk-estimator:hover label.sk-toggleable__label-arrow:before {color: black;}#sk-container-id-1 div.sk-toggleable__content {max-height: 0;max-width: 0;overflow: hidden;text-align: left;background-color: #f0f8ff;}#sk-container-id-1 div.sk-toggleable__content pre {margin: 0.2em;color: black;border-radius: 0.25em;background-color: #f0f8ff;}#sk-container-id-1 input.sk-toggleable__control:checked~div.sk-toggleable__content {max-height: 200px;max-width: 100%;overflow: auto;}#sk-container-id-1 input.sk-toggleable__control:checked~label.sk-toggleable__label-arrow:before {content: \"▾\";}#sk-container-id-1 div.sk-estimator input.sk-toggleable__control:checked~label.sk-toggleable__label {background-color: #d4ebff;}#sk-container-id-1 div.sk-label input.sk-toggleable__control:checked~label.sk-toggleable__label {background-color: #d4ebff;}#sk-container-id-1 input.sk-hidden--visually {border: 0;clip: rect(1px 1px 1px 1px);clip: rect(1px, 1px, 1px, 1px);height: 1px;margin: -1px;overflow: hidden;padding: 0;position: absolute;width: 1px;}#sk-container-id-1 div.sk-estimator {font-family: monospace;background-color: #f0f8ff;border: 1px dotted black;border-radius: 0.25em;box-sizing: border-box;margin-bottom: 0.5em;}#sk-container-id-1 div.sk-estimator:hover {background-color: #d4ebff;}#sk-container-id-1 div.sk-parallel-item::after {content: \"\";width: 100%;border-bottom: 1px solid gray;flex-grow: 1;}#sk-container-id-1 div.sk-label:hover label.sk-toggleable__label {background-color: #d4ebff;}#sk-container-id-1 div.sk-serial::before {content: \"\";position: absolute;border-left: 1px solid gray;box-sizing: border-box;top: 0;bottom: 0;left: 50%;z-index: 0;}#sk-container-id-1 div.sk-serial {display: flex;flex-direction: column;align-items: center;background-color: white;padding-right: 0.2em;padding-left: 0.2em;position: relative;}#sk-container-id-1 div.sk-item {position: relative;z-index: 1;}#sk-container-id-1 div.sk-parallel {display: flex;align-items: stretch;justify-content: center;background-color: white;position: relative;}#sk-container-id-1 div.sk-item::before, #sk-container-id-1 div.sk-parallel-item::before {content: \"\";position: absolute;border-left: 1px solid gray;box-sizing: border-box;top: 0;bottom: 0;left: 50%;z-index: -1;}#sk-container-id-1 div.sk-parallel-item {display: flex;flex-direction: column;z-index: 1;position: relative;background-color: white;}#sk-container-id-1 div.sk-parallel-item:first-child::after {align-self: flex-end;width: 50%;}#sk-container-id-1 div.sk-parallel-item:last-child::after {align-self: flex-start;width: 50%;}#sk-container-id-1 div.sk-parallel-item:only-child::after {width: 0;}#sk-container-id-1 div.sk-dashed-wrapped {border: 1px dashed gray;margin: 0 0.4em 0.5em 0.4em;box-sizing: border-box;padding-bottom: 0.4em;background-color: white;}#sk-container-id-1 div.sk-label label {font-family: monospace;font-weight: bold;display: inline-block;line-height: 1.2em;}#sk-container-id-1 div.sk-label-container {text-align: center;}#sk-container-id-1 div.sk-container {/* jupyter's `normalize.less` sets `[hidden] { display: none; }` but bootstrap.min.css set `[hidden] { display: none !important; }` so we also need the `!important` here to be able to override the default hidden behavior on the sphinx rendered scikit-learn.org. See: https://github.com/scikit-learn/scikit-learn/issues/21755 */display: inline-block !important;position: relative;}#sk-container-id-1 div.sk-text-repr-fallback {display: none;}</style><div id=\"sk-container-id-1\" class=\"sk-top-container\"><div class=\"sk-text-repr-fallback\"><pre>MultinomialNB()</pre><b>In a Jupyter environment, please rerun this cell to show the HTML representation or trust the notebook. <br />On GitHub, the HTML representation is unable to render, please try loading this page with nbviewer.org.</b></div><div class=\"sk-container\" hidden><div class=\"sk-item\"><div class=\"sk-estimator sk-toggleable\"><input class=\"sk-toggleable__control sk-hidden--visually\" id=\"sk-estimator-id-1\" type=\"checkbox\" checked><label for=\"sk-estimator-id-1\" class=\"sk-toggleable__label sk-toggleable__label-arrow\">MultinomialNB</label><div class=\"sk-toggleable__content\"><pre>MultinomialNB()</pre></div></div></div></div></div>"
      ],
      "text/plain": [
       "MultinomialNB()"
      ]
     },
     "execution_count": 91,
     "metadata": {},
     "output_type": "execute_result"
    }
   ],
   "source": [
    "nb_model = MultinomialNB()\n",
    "nb_model"
   ]
  },
  {
   "cell_type": "markdown",
   "id": "be4b12cc-4f61-4b48-b229-1ec3b71fb925",
   "metadata": {},
   "source": [
    "Training the model on the training set"
   ]
  },
  {
   "cell_type": "code",
   "execution_count": 96,
   "id": "f462a23d-6dc7-44b3-8928-46a0eda46650",
   "metadata": {},
   "outputs": [],
   "source": [
    "from sklearn.feature_extraction.text import TfidfVectorizer\n",
    "\n",
    "vectorizer = TfidfVectorizer()\n",
    "X_train_vectors = vectorizer.fit_transform(X_train)"
   ]
  },
  {
   "cell_type": "code",
   "execution_count": 98,
   "id": "79ee10cf-e613-493f-8c4c-1e6734c38dcf",
   "metadata": {},
   "outputs": [
    {
     "data": {
      "text/plain": [
       "<1600x50201 sparse matrix of type '<class 'numpy.float64'>'\n",
       "\twith 218720 stored elements in Compressed Sparse Row format>"
      ]
     },
     "execution_count": 98,
     "metadata": {},
     "output_type": "execute_result"
    }
   ],
   "source": [
    "X_train_vectors"
   ]
  },
  {
   "cell_type": "code",
   "execution_count": 100,
   "id": "daf67fb0-bebf-46a5-b427-0ad07e4cebb9",
   "metadata": {},
   "outputs": [],
   "source": [
    "from sklearn.feature_extraction.text import TfidfVectorizer\n",
    "\n",
    "vectorizer = TfidfVectorizer()\n",
    "Y_train_vectors = vectorizer.fit_transform(Y_train)"
   ]
  },
  {
   "cell_type": "code",
   "execution_count": 102,
   "id": "83735d41-f5f1-449f-8393-1443e252e8d2",
   "metadata": {},
   "outputs": [
    {
     "data": {
      "text/plain": [
       "<1600x32 sparse matrix of type '<class 'numpy.float64'>'\n",
       "\twith 4371 stored elements in Compressed Sparse Row format>"
      ]
     },
     "execution_count": 102,
     "metadata": {},
     "output_type": "execute_result"
    }
   ],
   "source": [
    "Y_train_vectors"
   ]
  },
  {
   "cell_type": "markdown",
   "id": "74561b5e-9b04-4c50-8609-d95847bdc71f",
   "metadata": {},
   "source": [
    "Making predictions on the test set"
   ]
  },
  {
   "cell_type": "code",
   "execution_count": 169,
   "id": "97a222ee-7f43-4c09-aaa5-6b228c7c2a1e",
   "metadata": {},
   "outputs": [],
   "source": [
    "from sklearn.feature_extraction.text import TfidfVectorizer\n",
    "from sklearn.model_selection import train_test_split\n",
    "from sklearn.linear_model import LogisticRegression"
   ]
  },
  {
   "cell_type": "code",
   "execution_count": 134,
   "id": "931cef19-9e91-48db-871e-bbd88419e48b",
   "metadata": {},
   "outputs": [],
   "source": [
    "data = ['This is a positive review', 'This is a negative review', 'I love this product', 'I hate this product']\n",
    "labels = [1, 0, 1, 0]"
   ]
  },
  {
   "cell_type": "markdown",
   "id": "c005167d-293a-480f-bc55-e35aff73644e",
   "metadata": {},
   "source": [
    "Splitting the data into training and testing sets"
   ]
  },
  {
   "cell_type": "code",
   "execution_count": 136,
   "id": "06cb9506-6a75-4fc0-a43a-d2891972df0c",
   "metadata": {},
   "outputs": [],
   "source": [
    "X_train, X_test, y_train, y_test = train_test_split(data, labels, test_size=0.2, random_state=42)"
   ]
  },
  {
   "cell_type": "code",
   "execution_count": 138,
   "id": "e0202fcd-1255-4250-812e-f01a60a749b3",
   "metadata": {},
   "outputs": [
    {
     "data": {
      "text/plain": [
       "['I hate this product', 'This is a positive review', 'I love this product']"
      ]
     },
     "execution_count": 138,
     "metadata": {},
     "output_type": "execute_result"
    }
   ],
   "source": [
    "X_train"
   ]
  },
  {
   "cell_type": "code",
   "execution_count": 140,
   "id": "99e86682-f8a3-437b-bcd1-85f8bf6f7880",
   "metadata": {},
   "outputs": [
    {
     "data": {
      "text/plain": [
       "['This is a negative review']"
      ]
     },
     "execution_count": 140,
     "metadata": {},
     "output_type": "execute_result"
    }
   ],
   "source": [
    "X_test"
   ]
  },
  {
   "cell_type": "code",
   "execution_count": 142,
   "id": "4f1f54f3-df58-4ebc-aaa8-4dfbbd679d34",
   "metadata": {},
   "outputs": [
    {
     "data": {
      "text/plain": [
       "[0, 1, 1]"
      ]
     },
     "execution_count": 142,
     "metadata": {},
     "output_type": "execute_result"
    }
   ],
   "source": [
    "Y_train"
   ]
  },
  {
   "cell_type": "code",
   "execution_count": 144,
   "id": "3150d99d-99f8-48d7-b478-95ec6e433a20",
   "metadata": {},
   "outputs": [
    {
     "data": {
      "text/plain": [
       "[0]"
      ]
     },
     "execution_count": 144,
     "metadata": {},
     "output_type": "execute_result"
    }
   ],
   "source": [
    "Y_test"
   ]
  },
  {
   "cell_type": "markdown",
   "id": "f333c026-1916-4059-8455-9395bd9b48ec",
   "metadata": {},
   "source": [
    "Creating a TfidfVectorizer object"
   ]
  },
  {
   "cell_type": "code",
   "execution_count": 147,
   "id": "f694d252-786c-49c3-8727-6b261023de24",
   "metadata": {},
   "outputs": [],
   "source": [
    "vectorizer = TfidfVectorizer()"
   ]
  },
  {
   "cell_type": "code",
   "execution_count": 149,
   "id": "7b85e7fa-e72f-4c27-9fe1-9aaf01f05e5e",
   "metadata": {},
   "outputs": [
    {
     "data": {
      "text/html": [
       "<style>#sk-container-id-2 {color: black;background-color: white;}#sk-container-id-2 pre{padding: 0;}#sk-container-id-2 div.sk-toggleable {background-color: white;}#sk-container-id-2 label.sk-toggleable__label {cursor: pointer;display: block;width: 100%;margin-bottom: 0;padding: 0.3em;box-sizing: border-box;text-align: center;}#sk-container-id-2 label.sk-toggleable__label-arrow:before {content: \"▸\";float: left;margin-right: 0.25em;color: #696969;}#sk-container-id-2 label.sk-toggleable__label-arrow:hover:before {color: black;}#sk-container-id-2 div.sk-estimator:hover label.sk-toggleable__label-arrow:before {color: black;}#sk-container-id-2 div.sk-toggleable__content {max-height: 0;max-width: 0;overflow: hidden;text-align: left;background-color: #f0f8ff;}#sk-container-id-2 div.sk-toggleable__content pre {margin: 0.2em;color: black;border-radius: 0.25em;background-color: #f0f8ff;}#sk-container-id-2 input.sk-toggleable__control:checked~div.sk-toggleable__content {max-height: 200px;max-width: 100%;overflow: auto;}#sk-container-id-2 input.sk-toggleable__control:checked~label.sk-toggleable__label-arrow:before {content: \"▾\";}#sk-container-id-2 div.sk-estimator input.sk-toggleable__control:checked~label.sk-toggleable__label {background-color: #d4ebff;}#sk-container-id-2 div.sk-label input.sk-toggleable__control:checked~label.sk-toggleable__label {background-color: #d4ebff;}#sk-container-id-2 input.sk-hidden--visually {border: 0;clip: rect(1px 1px 1px 1px);clip: rect(1px, 1px, 1px, 1px);height: 1px;margin: -1px;overflow: hidden;padding: 0;position: absolute;width: 1px;}#sk-container-id-2 div.sk-estimator {font-family: monospace;background-color: #f0f8ff;border: 1px dotted black;border-radius: 0.25em;box-sizing: border-box;margin-bottom: 0.5em;}#sk-container-id-2 div.sk-estimator:hover {background-color: #d4ebff;}#sk-container-id-2 div.sk-parallel-item::after {content: \"\";width: 100%;border-bottom: 1px solid gray;flex-grow: 1;}#sk-container-id-2 div.sk-label:hover label.sk-toggleable__label {background-color: #d4ebff;}#sk-container-id-2 div.sk-serial::before {content: \"\";position: absolute;border-left: 1px solid gray;box-sizing: border-box;top: 0;bottom: 0;left: 50%;z-index: 0;}#sk-container-id-2 div.sk-serial {display: flex;flex-direction: column;align-items: center;background-color: white;padding-right: 0.2em;padding-left: 0.2em;position: relative;}#sk-container-id-2 div.sk-item {position: relative;z-index: 1;}#sk-container-id-2 div.sk-parallel {display: flex;align-items: stretch;justify-content: center;background-color: white;position: relative;}#sk-container-id-2 div.sk-item::before, #sk-container-id-2 div.sk-parallel-item::before {content: \"\";position: absolute;border-left: 1px solid gray;box-sizing: border-box;top: 0;bottom: 0;left: 50%;z-index: -1;}#sk-container-id-2 div.sk-parallel-item {display: flex;flex-direction: column;z-index: 1;position: relative;background-color: white;}#sk-container-id-2 div.sk-parallel-item:first-child::after {align-self: flex-end;width: 50%;}#sk-container-id-2 div.sk-parallel-item:last-child::after {align-self: flex-start;width: 50%;}#sk-container-id-2 div.sk-parallel-item:only-child::after {width: 0;}#sk-container-id-2 div.sk-dashed-wrapped {border: 1px dashed gray;margin: 0 0.4em 0.5em 0.4em;box-sizing: border-box;padding-bottom: 0.4em;background-color: white;}#sk-container-id-2 div.sk-label label {font-family: monospace;font-weight: bold;display: inline-block;line-height: 1.2em;}#sk-container-id-2 div.sk-label-container {text-align: center;}#sk-container-id-2 div.sk-container {/* jupyter's `normalize.less` sets `[hidden] { display: none; }` but bootstrap.min.css set `[hidden] { display: none !important; }` so we also need the `!important` here to be able to override the default hidden behavior on the sphinx rendered scikit-learn.org. See: https://github.com/scikit-learn/scikit-learn/issues/21755 */display: inline-block !important;position: relative;}#sk-container-id-2 div.sk-text-repr-fallback {display: none;}</style><div id=\"sk-container-id-2\" class=\"sk-top-container\"><div class=\"sk-text-repr-fallback\"><pre>TfidfVectorizer()</pre><b>In a Jupyter environment, please rerun this cell to show the HTML representation or trust the notebook. <br />On GitHub, the HTML representation is unable to render, please try loading this page with nbviewer.org.</b></div><div class=\"sk-container\" hidden><div class=\"sk-item\"><div class=\"sk-estimator sk-toggleable\"><input class=\"sk-toggleable__control sk-hidden--visually\" id=\"sk-estimator-id-2\" type=\"checkbox\" checked><label for=\"sk-estimator-id-2\" class=\"sk-toggleable__label sk-toggleable__label-arrow\">TfidfVectorizer</label><div class=\"sk-toggleable__content\"><pre>TfidfVectorizer()</pre></div></div></div></div></div>"
      ],
      "text/plain": [
       "TfidfVectorizer()"
      ]
     },
     "execution_count": 149,
     "metadata": {},
     "output_type": "execute_result"
    }
   ],
   "source": [
    "vectorizer"
   ]
  },
  {
   "cell_type": "markdown",
   "id": "b892ee68-2984-4dd9-8d06-cecfe471bdca",
   "metadata": {},
   "source": [
    "Fitting the vectorizer to the training data and transform both the training and testing data"
   ]
  },
  {
   "cell_type": "code",
   "execution_count": 152,
   "id": "b3938ba3-b7ab-4883-8559-7547147dbca5",
   "metadata": {},
   "outputs": [],
   "source": [
    "X_train_vectorized = vectorizer.fit_transform(X_train)\n",
    "X_test_vectorized = vectorizer.transform(X_test)"
   ]
  },
  {
   "cell_type": "code",
   "execution_count": 154,
   "id": "7ffcd08b-e263-4592-8d09-42b533db2faa",
   "metadata": {},
   "outputs": [
    {
     "data": {
      "text/plain": [
       "<3x7 sparse matrix of type '<class 'numpy.float64'>'\n",
       "\twith 10 stored elements in Compressed Sparse Row format>"
      ]
     },
     "execution_count": 154,
     "metadata": {},
     "output_type": "execute_result"
    }
   ],
   "source": [
    "X_train_vectorized"
   ]
  },
  {
   "cell_type": "code",
   "execution_count": 156,
   "id": "8630a75a-e2d0-4bfe-8983-bd362cdbff8c",
   "metadata": {},
   "outputs": [
    {
     "data": {
      "text/plain": [
       "<1x7 sparse matrix of type '<class 'numpy.float64'>'\n",
       "\twith 3 stored elements in Compressed Sparse Row format>"
      ]
     },
     "execution_count": 156,
     "metadata": {},
     "output_type": "execute_result"
    }
   ],
   "source": [
    "X_test_vectorized"
   ]
  },
  {
   "cell_type": "markdown",
   "id": "72e296a0-ce34-4551-b5c8-4f4f610db7cd",
   "metadata": {},
   "source": [
    "Creating a LogisticRegression model"
   ]
  },
  {
   "cell_type": "code",
   "execution_count": 159,
   "id": "96459b17-5ffd-47e2-9335-ca92224850b0",
   "metadata": {},
   "outputs": [],
   "source": [
    "model = LogisticRegression()"
   ]
  },
  {
   "cell_type": "markdown",
   "id": "0a7501fa-a069-44ec-befa-e0095ab98429",
   "metadata": {},
   "source": [
    "Training the model on the vectorized training data"
   ]
  },
  {
   "cell_type": "code",
   "execution_count": 166,
   "id": "bd95afc9-453f-4535-959a-cf451395b048",
   "metadata": {},
   "outputs": [
    {
     "data": {
      "text/html": [
       "<style>#sk-container-id-5 {color: black;background-color: white;}#sk-container-id-5 pre{padding: 0;}#sk-container-id-5 div.sk-toggleable {background-color: white;}#sk-container-id-5 label.sk-toggleable__label {cursor: pointer;display: block;width: 100%;margin-bottom: 0;padding: 0.3em;box-sizing: border-box;text-align: center;}#sk-container-id-5 label.sk-toggleable__label-arrow:before {content: \"▸\";float: left;margin-right: 0.25em;color: #696969;}#sk-container-id-5 label.sk-toggleable__label-arrow:hover:before {color: black;}#sk-container-id-5 div.sk-estimator:hover label.sk-toggleable__label-arrow:before {color: black;}#sk-container-id-5 div.sk-toggleable__content {max-height: 0;max-width: 0;overflow: hidden;text-align: left;background-color: #f0f8ff;}#sk-container-id-5 div.sk-toggleable__content pre {margin: 0.2em;color: black;border-radius: 0.25em;background-color: #f0f8ff;}#sk-container-id-5 input.sk-toggleable__control:checked~div.sk-toggleable__content {max-height: 200px;max-width: 100%;overflow: auto;}#sk-container-id-5 input.sk-toggleable__control:checked~label.sk-toggleable__label-arrow:before {content: \"▾\";}#sk-container-id-5 div.sk-estimator input.sk-toggleable__control:checked~label.sk-toggleable__label {background-color: #d4ebff;}#sk-container-id-5 div.sk-label input.sk-toggleable__control:checked~label.sk-toggleable__label {background-color: #d4ebff;}#sk-container-id-5 input.sk-hidden--visually {border: 0;clip: rect(1px 1px 1px 1px);clip: rect(1px, 1px, 1px, 1px);height: 1px;margin: -1px;overflow: hidden;padding: 0;position: absolute;width: 1px;}#sk-container-id-5 div.sk-estimator {font-family: monospace;background-color: #f0f8ff;border: 1px dotted black;border-radius: 0.25em;box-sizing: border-box;margin-bottom: 0.5em;}#sk-container-id-5 div.sk-estimator:hover {background-color: #d4ebff;}#sk-container-id-5 div.sk-parallel-item::after {content: \"\";width: 100%;border-bottom: 1px solid gray;flex-grow: 1;}#sk-container-id-5 div.sk-label:hover label.sk-toggleable__label {background-color: #d4ebff;}#sk-container-id-5 div.sk-serial::before {content: \"\";position: absolute;border-left: 1px solid gray;box-sizing: border-box;top: 0;bottom: 0;left: 50%;z-index: 0;}#sk-container-id-5 div.sk-serial {display: flex;flex-direction: column;align-items: center;background-color: white;padding-right: 0.2em;padding-left: 0.2em;position: relative;}#sk-container-id-5 div.sk-item {position: relative;z-index: 1;}#sk-container-id-5 div.sk-parallel {display: flex;align-items: stretch;justify-content: center;background-color: white;position: relative;}#sk-container-id-5 div.sk-item::before, #sk-container-id-5 div.sk-parallel-item::before {content: \"\";position: absolute;border-left: 1px solid gray;box-sizing: border-box;top: 0;bottom: 0;left: 50%;z-index: -1;}#sk-container-id-5 div.sk-parallel-item {display: flex;flex-direction: column;z-index: 1;position: relative;background-color: white;}#sk-container-id-5 div.sk-parallel-item:first-child::after {align-self: flex-end;width: 50%;}#sk-container-id-5 div.sk-parallel-item:last-child::after {align-self: flex-start;width: 50%;}#sk-container-id-5 div.sk-parallel-item:only-child::after {width: 0;}#sk-container-id-5 div.sk-dashed-wrapped {border: 1px dashed gray;margin: 0 0.4em 0.5em 0.4em;box-sizing: border-box;padding-bottom: 0.4em;background-color: white;}#sk-container-id-5 div.sk-label label {font-family: monospace;font-weight: bold;display: inline-block;line-height: 1.2em;}#sk-container-id-5 div.sk-label-container {text-align: center;}#sk-container-id-5 div.sk-container {/* jupyter's `normalize.less` sets `[hidden] { display: none; }` but bootstrap.min.css set `[hidden] { display: none !important; }` so we also need the `!important` here to be able to override the default hidden behavior on the sphinx rendered scikit-learn.org. See: https://github.com/scikit-learn/scikit-learn/issues/21755 */display: inline-block !important;position: relative;}#sk-container-id-5 div.sk-text-repr-fallback {display: none;}</style><div id=\"sk-container-id-5\" class=\"sk-top-container\"><div class=\"sk-text-repr-fallback\"><pre>LogisticRegression()</pre><b>In a Jupyter environment, please rerun this cell to show the HTML representation or trust the notebook. <br />On GitHub, the HTML representation is unable to render, please try loading this page with nbviewer.org.</b></div><div class=\"sk-container\" hidden><div class=\"sk-item\"><div class=\"sk-estimator sk-toggleable\"><input class=\"sk-toggleable__control sk-hidden--visually\" id=\"sk-estimator-id-5\" type=\"checkbox\" checked><label for=\"sk-estimator-id-5\" class=\"sk-toggleable__label sk-toggleable__label-arrow\">LogisticRegression</label><div class=\"sk-toggleable__content\"><pre>LogisticRegression()</pre></div></div></div></div></div>"
      ],
      "text/plain": [
       "LogisticRegression()"
      ]
     },
     "execution_count": 166,
     "metadata": {},
     "output_type": "execute_result"
    }
   ],
   "source": [
    "model.fit(X_train_vectorized, Y_train)"
   ]
  },
  {
   "cell_type": "markdown",
   "id": "f03458ac-f910-4f7a-aa70-fb74487b6f10",
   "metadata": {},
   "source": [
    "Making predictions on the vectorized testing data"
   ]
  },
  {
   "cell_type": "code",
   "execution_count": 171,
   "id": "6b59f5a1-ef41-476a-b878-88119072077b",
   "metadata": {},
   "outputs": [],
   "source": [
    "Y_pred = model.predict(X_test_vectorized)"
   ]
  },
  {
   "cell_type": "code",
   "execution_count": 173,
   "id": "c4a394cd-735a-4829-be13-32e79ac641e2",
   "metadata": {},
   "outputs": [
    {
     "data": {
      "text/plain": [
       "array([1])"
      ]
     },
     "execution_count": 173,
     "metadata": {},
     "output_type": "execute_result"
    }
   ],
   "source": [
    "Y_pred"
   ]
  },
  {
   "cell_type": "markdown",
   "id": "2a92a4b7-f7ee-4440-9377-29898eacde31",
   "metadata": {},
   "source": [
    "# Task 3: Sentiment Analysis"
   ]
  },
  {
   "cell_type": "code",
   "execution_count": 175,
   "id": "4d8925f9-323b-4cd9-b8c3-f329870aae2d",
   "metadata": {},
   "outputs": [],
   "source": [
    "import pandas as pd\n",
    "import nltk\n",
    "from nltk.sentiment.vader import SentimentIntensityAnalyzer"
   ]
  },
  {
   "cell_type": "markdown",
   "id": "ba277b7a-f333-47c6-ad74-733e73816a18",
   "metadata": {},
   "source": [
    "Initializing the SentimentIntensityAnalyzer"
   ]
  },
  {
   "cell_type": "code",
   "execution_count": 178,
   "id": "6b22f2cf-b188-460e-9dc8-cda80c0753a0",
   "metadata": {},
   "outputs": [],
   "source": [
    "sia = SentimentIntensityAnalyzer()"
   ]
  },
  {
   "cell_type": "code",
   "execution_count": 180,
   "id": "ed88c7f7-2c10-4592-8299-0f65e0b67e4c",
   "metadata": {},
   "outputs": [
    {
     "data": {
      "text/plain": [
       "<nltk.sentiment.vader.SentimentIntensityAnalyzer at 0x26c8353bf50>"
      ]
     },
     "execution_count": 180,
     "metadata": {},
     "output_type": "execute_result"
    }
   ],
   "source": [
    "sia"
   ]
  },
  {
   "cell_type": "markdown",
   "id": "93c0ba2d-7fb3-4c06-93c5-cf66a97a290c",
   "metadata": {},
   "source": [
    "Defining a function to categorize sentiments"
   ]
  },
  {
   "cell_type": "code",
   "execution_count": 183,
   "id": "6347ad66-2e26-4480-905f-fe9df98f2209",
   "metadata": {},
   "outputs": [],
   "source": [
    "def categorize_sentiment(score):\n",
    "    if score >= 0.05:\n",
    "        return 'Positive'\n",
    "    elif score <= -0.05:\n",
    "        return 'Negative'\n",
    "    else:\n",
    "        return 'Neutral'"
   ]
  },
  {
   "cell_type": "markdown",
   "id": "19c9921c-37b3-4082-8ca3-d3ccab4cf579",
   "metadata": {},
   "source": [
    "Analyzing the sentiments expressed in the blog posts"
   ]
  },
  {
   "cell_type": "code",
   "execution_count": 186,
   "id": "26fc7c50-1da4-4792-835f-8b57e8cc64eb",
   "metadata": {},
   "outputs": [],
   "source": [
    "df['Sentiment'] = df['Data'].apply(lambda x: sia.polarity_scores(x)['compound'])\n",
    "df['Sentiment_Category'] = df['Sentiment'].apply(categorize_sentiment)"
   ]
  },
  {
   "cell_type": "code",
   "execution_count": 188,
   "id": "539c8431-c430-4eb9-b1d9-7d40c09f76b4",
   "metadata": {},
   "outputs": [
    {
     "data": {
      "text/plain": [
       "0      -0.9896\n",
       "1       0.8750\n",
       "2      -0.9940\n",
       "3      -0.9996\n",
       "4       0.9890\n",
       "         ...  \n",
       "1995    0.8653\n",
       "1996    0.9201\n",
       "1997    0.9339\n",
       "1998    0.9893\n",
       "1999   -0.9725\n",
       "Name: Sentiment, Length: 2000, dtype: float64"
      ]
     },
     "execution_count": 188,
     "metadata": {},
     "output_type": "execute_result"
    }
   ],
   "source": [
    "df['Sentiment']"
   ]
  },
  {
   "cell_type": "code",
   "execution_count": 190,
   "id": "cbf0c3ea-edf1-4b23-9cfe-22762d2229b4",
   "metadata": {},
   "outputs": [
    {
     "data": {
      "text/plain": [
       "0       Negative\n",
       "1       Positive\n",
       "2       Negative\n",
       "3       Negative\n",
       "4       Positive\n",
       "          ...   \n",
       "1995    Positive\n",
       "1996    Positive\n",
       "1997    Positive\n",
       "1998    Positive\n",
       "1999    Negative\n",
       "Name: Sentiment_Category, Length: 2000, dtype: object"
      ]
     },
     "execution_count": 190,
     "metadata": {},
     "output_type": "execute_result"
    }
   ],
   "source": [
    "df['Sentiment_Category']"
   ]
  },
  {
   "cell_type": "markdown",
   "id": "c7e359bb-74e8-4cbc-952d-056da727faf7",
   "metadata": {},
   "source": [
    "Examining the distribution of sentiments across different categories"
   ]
  },
  {
   "cell_type": "code",
   "execution_count": 193,
   "id": "7485bd50-a2fc-440d-ac52-dc941f118be5",
   "metadata": {},
   "outputs": [
    {
     "name": "stdout",
     "output_type": "stream",
     "text": [
      "Positive    1355\n",
      "Negative     581\n",
      "Neutral       64\n",
      "Name: Sentiment_Category, dtype: int64\n"
     ]
    }
   ],
   "source": [
    "sentiment_counts = df['Sentiment_Category'].value_counts()\n",
    "print(sentiment_counts)"
   ]
  },
  {
   "cell_type": "markdown",
   "id": "cf5ddd1a-2cc1-44a3-a305-e32606ca4ccc",
   "metadata": {},
   "source": [
    "Summarizing the findings"
   ]
  },
  {
   "cell_type": "code",
   "execution_count": 196,
   "id": "53bc2c16-a016-49cb-9550-ffb3b0df5ae6",
   "metadata": {},
   "outputs": [
    {
     "name": "stdout",
     "output_type": "stream",
     "text": [
      "Sentiment Distribution:\n",
      "Positive: 1355\n",
      "Negative: 581\n",
      "Neutral: 64\n"
     ]
    }
   ],
   "source": [
    "print(\"Sentiment Distribution:\")\n",
    "print(\"Positive:\", sentiment_counts['Positive'])\n",
    "print(\"Negative:\", sentiment_counts['Negative'])\n",
    "print(\"Neutral:\", sentiment_counts['Neutral'])"
   ]
  },
  {
   "cell_type": "markdown",
   "id": "dec027ee-060a-48e2-9748-dc0d6b31b1a9",
   "metadata": {},
   "source": [
    "Visualizing the sentiment distribution"
   ]
  },
  {
   "cell_type": "code",
   "execution_count": 199,
   "id": "e4ab0514-ca32-484c-be8b-cfadf2f4f96d",
   "metadata": {},
   "outputs": [
    {
     "data": {
      "image/png": "[encoded data removed]",
      "text/plain": [
       "<Figure size 800x600 with 1 Axes>"
      ]
     },
     "metadata": {},
     "output_type": "display_data"
    }
   ],
   "source": [
    "import matplotlib.pyplot as plt\n",
    "plt.figure(figsize=(8, 6))\n",
    "plt.bar(sentiment_counts.index, sentiment_counts.values)\n",
    "plt.xlabel('Sentiment Category')\n",
    "plt.ylabel('Count')\n",
    "plt.title('Sentiment Distribution')\n",
    "plt.show()"
   ]
  },
  {
   "cell_type": "markdown",
   "id": "ce4571f4-be58-47f8-aae8-400ee5c95690",
   "metadata": {},
   "source": [
    "# Task 4: Evaluation"
   ]
  },
  {
   "cell_type": "code",
   "execution_count": 202,
   "id": "0ecf64bb-5196-4408-a3cc-2d8cbb5da81c",
   "metadata": {},
   "outputs": [],
   "source": [
    "import pandas as pd\n",
    "from sklearn.model_selection import train_test_split\n",
    "from sklearn.naive_bayes import MultinomialNB\n",
    "from sklearn.metrics import accuracy_score, classification_report, confusion_matrix"
   ]
  },
  {
   "cell_type": "markdown",
   "id": "2e4a4bba-08ff-48f8-812c-5963ba562ee3",
   "metadata": {},
   "source": [
    "Evaluating the performance of the Naive Bayes classifier"
   ]
  },
  {
   "cell_type": "code",
   "execution_count": 224,
   "id": "5d4ada02-3a0d-4a20-a7fd-0c2660e7dade",
   "metadata": {},
   "outputs": [
    {
     "name": "stdout",
     "output_type": "stream",
     "text": [
      "Accuracy: 0.0\n",
      "Classification Report:\n",
      "              precision    recall  f1-score   support\n",
      "\n",
      "           0       0.00      0.00      0.00       1.0\n",
      "           1       0.00      0.00      0.00       0.0\n",
      "\n",
      "    accuracy                           0.00       1.0\n",
      "   macro avg       0.00      0.00      0.00       1.0\n",
      "weighted avg       0.00      0.00      0.00       1.0\n",
      "\n",
      "Confusion Matrix:\n",
      "[[0 1]\n",
      " [0 0]]\n"
     ]
    }
   ],
   "source": [
    "from sklearn.metrics import accuracy_score, classification_report, confusion_matrix\n",
    "\n",
    "accuracy = accuracy_score(y_test, y_pred)\n",
    "print(\"Accuracy:\", accuracy)\n",
    "print(\"Classification Report:\")\n",
    "print(classification_report(y_test, y_pred, zero_division=0))\n",
    "print(\"Confusion Matrix:\")\n",
    "print(confusion_matrix(y_test, y_pred))"
   ]
  },
  {
   "cell_type": "markdown",
   "id": "2626189c-1c17-47ad-b180-bcd3e81274a7",
   "metadata": {},
   "source": [
    "Discussion of the performance of the model"
   ]
  },
  {
   "cell_type": "code",
   "execution_count": 218,
   "id": "27baf63f-f5db-4540-91c4-8f18907f8556",
   "metadata": {},
   "outputs": [
    {
     "name": "stdout",
     "output_type": "stream",
     "text": [
      "The Naive Bayes classifier achieved an accuracy of 0.0\n",
      "The classification report shows the precision, recall, and F1-score for each class.\n",
      "The confusion matrix provides a detailed breakdown of the true positives, false positives, true negatives, and false negatives.\n"
     ]
    }
   ],
   "source": [
    "print(\"The Naive Bayes classifier achieved an accuracy of\", accuracy)\n",
    "print(\"The classification report shows the precision, recall, and F1-score for each class.\")\n",
    "print(\"The confusion matrix provides a detailed breakdown of the true positives, false positives, true negatives, and false negatives.\")"
   ]
  },
  {
   "cell_type": "markdown",
   "id": "bbf1d289-8ebf-4ffa-a796-e8e588b7e0e0",
   "metadata": {},
   "source": [
    "Reflection on the sentiment analysis results"
   ]
  },
  {
   "cell_type": "code",
   "execution_count": 221,
   "id": "f716e0ac-c6d4-40ec-8508-649c1140fa88",
   "metadata": {},
   "outputs": [
    {
     "name": "stdout",
     "output_type": "stream",
     "text": [
      "The sentiment analysis results indicate that the majority of the blog posts have a neutral sentiment.\n",
      "This suggests that the blog posts are primarily informative and objective, rather than emotional or persuasive.\n",
      "However, the presence of positive and negative sentiments suggests that some blog posts may be more subjective or opinionated.\n",
      "Further analysis could explore the relationship between sentiment and topic, or examine the language and tone used in the blog posts.\n"
     ]
    }
   ],
   "source": [
    "print(\"The sentiment analysis results indicate that the majority of the blog posts have a neutral sentiment.\")\n",
    "print(\"This suggests that the blog posts are primarily informative and objective, rather than emotional or persuasive.\")\n",
    "print(\"However, the presence of positive and negative sentiments suggests that some blog posts may be more subjective or opinionated.\")\n",
    "print(\"Further analysis could explore the relationship between sentiment and topic, or examine the language and tone used in the blog posts.\")"
   ]
  }
 ],
 "metadata": {
  "kernelspec": {
   "display_name": "Python 3 (ipykernel)",
   "language": "python",
   "name": "python3"
  },
  "language_info": {
   "codemirror_mode": {
    "name": "ipython",
    "version": 3
   },
   "file_extension": ".py",
   "mimetype": "text/x-python",
   "name": "python",
   "nbconvert_exporter": "python",
   "pygments_lexer": "ipython3",
   "version": "3.11.7"
  }
 },
 "nbformat": 4,
 "nbformat_minor": 5
}
