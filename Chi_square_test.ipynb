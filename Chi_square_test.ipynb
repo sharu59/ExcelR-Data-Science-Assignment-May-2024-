{
  "cells": [
    {
      "cell_type": "markdown",
      "metadata": {
        "id": "gQVERneHQiEJ"
      },
      "source": [
        "# Sharvari Lahane\n",
        "# Data Science - Batch May 2024 (Baner, Pune) - Assignment 4\n",
        "# HYPOTHESIS TESTING ASSIGNMENT (CHI-SQUARE TEST)\n"
      ]
    },
    {
      "cell_type": "code",
      "execution_count": null,
      "metadata": {
        "id": "CJpXPyOsLSC-"
      },
      "outputs": [],
      "source": [
        "import numpy as np\n",
        "from scipy.stats import chi2"
      ]
    },
    {
      "cell_type": "code",
      "execution_count": null,
      "metadata": {
        "colab": {
          "base_uri": "https://localhost:8080/"
        },
        "id": "Q940y9RjLnkw",
        "outputId": "a4b9e9bc-f981-46de-ce53-e118a8fa106b"
      },
      "outputs": [
        {
          "name": "stdout",
          "output_type": "stream",
          "text": [
            "[[ 50  70]\n",
            " [ 80 100]\n",
            " [ 60  90]\n",
            " [ 30  50]\n",
            " [ 20  50]]\n"
          ]
        }
      ],
      "source": [
        "# Define the contingency table\n",
        "contingency_table = np.array([\n",
        "    [50, 70],\n",
        "    [80, 100],\n",
        "    [60, 90],\n",
        "    [30, 50],\n",
        "    [20, 50]])\n",
        "print(contingency_table)"
      ]
    },
    {
      "cell_type": "code",
      "execution_count": null,
      "metadata": {
        "colab": {
          "base_uri": "https://localhost:8080/"
        },
        "id": "BWP2QtzAL0T2",
        "outputId": "02576072-4e8e-4e68-d6a0-d150827d7419"
      },
      "outputs": [
        {
          "name": "stdout",
          "output_type": "stream",
          "text": [
            "[120 180 150  80  70]\n",
            "[240 360]\n"
          ]
        }
      ],
      "source": [
        "# Define the row and column totals\n",
        "row_totals = np.sum(contingency_table, axis=1)\n",
        "col_totals = np.sum(contingency_table, axis=0)\n",
        "print(row_totals)\n",
        "print(col_totals)"
      ]
    },
    {
      "cell_type": "code",
      "execution_count": null,
      "metadata": {
        "colab": {
          "base_uri": "https://localhost:8080/"
        },
        "id": "CFNoYs8nL8Ag",
        "outputId": "6fcc3cbe-81f5-417b-d51c-aaa6596dd14e"
      },
      "outputs": [
        {
          "name": "stdout",
          "output_type": "stream",
          "text": [
            "600\n"
          ]
        }
      ],
      "source": [
        "# Define the total number of observations\n",
        "total_observations = np.sum(contingency_table)\n",
        "print(total_observations)"
      ]
    },
    {
      "cell_type": "markdown",
      "metadata": {
        "id": "TDQeKTBHOaY1"
      },
      "source": [
        "1. State the Hypotheses"
      ]
    },
    {
      "cell_type": "code",
      "execution_count": null,
      "metadata": {
        "colab": {
          "base_uri": "https://localhost:8080/"
        },
        "id": "DNZEHIYsL_nB",
        "outputId": "3ab009e8-b2fb-4d78-fa5c-f37da2226145"
      },
      "outputs": [
        {
          "name": "stdout",
          "output_type": "stream",
          "text": [
            "H0: There is no significant association between the type of smart home device purchased and the customer satisfaction level.\n",
            "H1: There is a significant association between the type of smart home device purchased and the customer satisfaction level.\n"
          ]
        }
      ],
      "source": [
        "print(\"H0: There is no significant association between the type of smart home device purchased and the customer satisfaction level.\")\n",
        "print(\"H1: There is a significant association between the type of smart home device purchased and the customer satisfaction level.\")"
      ]
    },
    {
      "cell_type": "markdown",
      "metadata": {
        "id": "CnhpjGEpPN0U"
      },
      "source": [
        "2. Compute the Chi-Square Statistic"
      ]
    },
    {
      "cell_type": "code",
      "execution_count": null,
      "metadata": {
        "colab": {
          "base_uri": "https://localhost:8080/"
        },
        "id": "RPn96cR1MEsz",
        "outputId": "4d9f56db-3d59-432e-83cd-fea51f970c79"
      },
      "outputs": [
        {
          "name": "stdout",
          "output_type": "stream",
          "text": [
            "Chi-Square Statistic: 5.638227513227513\n"
          ]
        }
      ],
      "source": [
        "expected_frequencies = np.outer(row_totals, col_totals) / total_observations\n",
        "chi_square_statistic = np.sum((contingency_table - expected_frequencies) ** 2 / expected_frequencies)\n",
        "print(\"Chi-Square Statistic:\", chi_square_statistic)"
      ]
    },
    {
      "cell_type": "markdown",
      "metadata": {
        "id": "zlFfkp8LPrjP"
      },
      "source": [
        "3. Determine the Critical Value"
      ]
    },
    {
      "cell_type": "code",
      "execution_count": null,
      "metadata": {
        "colab": {
          "base_uri": "https://localhost:8080/"
        },
        "id": "lzTVtp_YMMFV",
        "outputId": "35a5259c-de78-471e-d038-0bac3bc7b83c"
      },
      "outputs": [
        {
          "name": "stdout",
          "output_type": "stream",
          "text": [
            "Critical Value: 9.487729036781154\n"
          ]
        }
      ],
      "source": [
        "degrees_of_freedom = (contingency_table.shape[0] - 1) * (contingency_table.shape[1] - 1)\n",
        "critical_value = chi2.ppf(1 - 0.05, degrees_of_freedom)\n",
        "print(\"Critical Value:\", critical_value)"
      ]
    },
    {
      "cell_type": "markdown",
      "metadata": {
        "id": "cDSCYU-fPwwM"
      },
      "source": [
        "4. Make a Decision"
      ]
    },
    {
      "cell_type": "code",
      "execution_count": null,
      "metadata": {
        "colab": {
          "base_uri": "https://localhost:8080/"
        },
        "id": "NIaVDNtJMQGp",
        "outputId": "5814d377-cb4a-4dee-eef0-8e389e06ce04"
      },
      "outputs": [
        {
          "name": "stdout",
          "output_type": "stream",
          "text": [
            "Fail to reject the null hypothesis. There is no significant association between the type of smart home device purchased and the customer satisfaction level.\n"
          ]
        }
      ],
      "source": [
        "# Make a Decision\n",
        "if chi_square_statistic > critical_value:\n",
        "    print(\"Reject the null hypothesis. There is a significant association between the type of smart home device purchased and the customer satisfaction level.\")\n",
        "else:\n",
        "    print(\"Fail to reject the null hypothesis. There is no significant association between the type of smart home device purchased and the customer satisfaction level.\")"
      ]
    }
  ],
  "metadata": {
    "colab": {
      "provenance": []
    },
    "kernelspec": {
      "display_name": "Python 3",
      "name": "python3"
    },
    "language_info": {
      "name": "python"
    }
  },
  "nbformat": 4,
  "nbformat_minor": 0
}
