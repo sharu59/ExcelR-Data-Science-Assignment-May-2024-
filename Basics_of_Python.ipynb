{
 "cells": [
  {
   "cell_type": "markdown",
   "id": "aae4c47c-dfab-4e1a-86a6-9f460601bace",
   "metadata": {},
   "source": [
    "# Sharvari Lahane\n",
    "# Data Science - Batch May 2024 (Baner, Pune) - Assignment 3"
   ]
  },
  {
   "cell_type": "markdown",
   "id": "9af9287e-62dd-4ae7-9dad-0409ba9d3cf2",
   "metadata": {},
   "source": [
    "# PYTHON PROGRAMMING ASSIGNMENT"
   ]
  },
  {
   "cell_type": "markdown",
   "id": "8bbb30b5-fe56-4b5a-8d51-69b0690ec630",
   "metadata": {},
   "source": [
    "# Coding Exercises"
   ]
  },
  {
   "cell_type": "markdown",
   "id": "a53ee76f-3e4a-46ed-8de8-15470f9bf314",
   "metadata": {},
   "source": [
    "# Exercise 1: Prime Numbers"
   ]
  },
  {
   "cell_type": "markdown",
   "id": "65451b7e-bf19-401b-9a32-2eabb320974c",
   "metadata": {},
   "source": [
    "Write a Python program that checks whether a given number is prime or not. A prime number is a natural number greater than 1 that has no positive divisors other than 1 and itself."
   ]
  },
  {
   "cell_type": "code",
   "execution_count": 17,
   "id": "149eac5f-68c0-4347-b379-35b300723a3c",
   "metadata": {},
   "outputs": [
    {
     "name": "stdin",
     "output_type": "stream",
     "text": [
      "Enter a number:  3\n"
     ]
    },
    {
     "name": "stdout",
     "output_type": "stream",
     "text": [
      "3 is a prime number.\n"
     ]
    }
   ],
   "source": [
    "def is_prime(n):\n",
    "    if n <= 1:\n",
    "        return False\n",
    "    for i in range(2, int(n ** 0.5) + 1):\n",
    "        if n % i == 0:\n",
    "            return False\n",
    "    return True\n",
    "\n",
    "num = int(input(\"Enter a number: \"))\n",
    "if is_prime(num):\n",
    "    print(f\"{num} is a prime number.\")\n",
    "else:\n",
    "    print(f\"{num} is not a prime number.\")"
   ]
  },
  {
   "cell_type": "markdown",
   "id": "cda7de3d-39c8-4e1a-83b4-e1d10a2f4d8d",
   "metadata": {},
   "source": [
    "Here's how the program works:\n",
    "\n",
    "- The is_prime function takes an integer n as input returns True if it's prime, and False otherwise.\n",
    "- If n is less than or equal to 1, it's not prime, so we return False.\n",
    "- We loop from 2 to the square root of n (inclusive) and check if n is divisible by any of these numbers. If it is, it's not prime, so we return False.\n",
    "- If we reach the end of the loop without finding a divisor, n is prime, so we return True.\n",
    "- In the main part of the program, we ask the user to enter a number, and then call the is_prime function with that number. If it returns True, we print that the number is prime; otherwise, we print that it's not."
   ]
  },
  {
   "cell_type": "markdown",
   "id": "b2f49bef-0f8b-4983-bb9b-91b2a1e693e9",
   "metadata": {},
   "source": [
    "# Exercise 2: Product of Random Numbers"
   ]
  },
  {
   "cell_type": "markdown",
   "id": "2a1c63a4-10dc-4ffb-b008-0a739b498ea4",
   "metadata": {},
   "source": [
    "Develop a Python program that generates two random numbers and asks the user to enter the product of these numbers. The program should then check if the user's answer is correct and display an appropriate message."
   ]
  },
  {
   "cell_type": "code",
   "execution_count": 26,
   "id": "c25e360d-22a7-4170-9534-634a433c6a36",
   "metadata": {},
   "outputs": [
    {
     "name": "stdin",
     "output_type": "stream",
     "text": [
      "What is the product of 4 and 1?  5\n"
     ]
    },
    {
     "name": "stdout",
     "output_type": "stream",
     "text": [
      "Sorry, that's incorrect. The correct answer is 4.\n"
     ]
    }
   ],
   "source": [
    "import random\n",
    "\n",
    "# Generate two random numbers between 1 and 10\n",
    "num1 = random.randint(1, 10)\n",
    "num2 = random.randint(1, 10)\n",
    "\n",
    "# Calculate the product of the two numbers\n",
    "product = num1 * num2\n",
    "\n",
    "# Ask the user to enter the product\n",
    "user_answer = int(input(f\"What is the product of {num1} and {num2}? \"))\n",
    "\n",
    "# Check if the user's answer is correct\n",
    "if user_answer == product:\n",
    "    print(\"Correct! The product is \", product)\n",
    "else:\n",
    "    print(f\"Sorry, that's incorrect. The correct answer is {product}.\")"
   ]
  },
  {
   "cell_type": "markdown",
   "id": "eab118b7-dada-480c-89a2-c7feb0ea1a62",
   "metadata": {},
   "source": [
    "Here's how the program works:\n",
    "\n",
    "- I import the random module to generate random numbers.\n",
    "- I generate two random numbers between 1 and 10 using random.randint(1, 10).\n",
    "- I calculate the product of the two numbers using the * operator.\n",
    "- I ask the user to enter the product of the two numbers using input() and store their response in the user_answer variable.\n",
    "- I convert the user's input to an integer using int(), since input() returns a string by default.\n",
    "- I check if the user's answer is correct by comparing it to the calculated product using an if statement.\n",
    "- If the user's answer is correct, I print a success message. If not, I print an error message with the correct answer."
   ]
  },
  {
   "cell_type": "markdown",
   "id": "26370253-c582-45c2-8ac9-677c5aab586c",
   "metadata": {},
   "source": [
    "# Exercise 3: Squares of Even/Odd Numbers"
   ]
  },
  {
   "cell_type": "markdown",
   "id": "8c32ee89-6dcd-4e5b-b22f-bb4a6f59871c",
   "metadata": {},
   "source": [
    "Create a Python script that prints the squares of all even or odd numbers within the range of 100 to 200. Choose either even or odd numbers and document your choice in the code."
   ]
  },
  {
   "cell_type": "markdown",
   "id": "563e2d81-96b0-4de0-a09f-242a14190420",
   "metadata": {},
   "source": [
    "Prints the square of Odd Numbers between 100 and 200."
   ]
  },
  {
   "cell_type": "code",
   "execution_count": 53,
   "id": "f2174df8-e053-48bf-85b8-1eb41c27c4c5",
   "metadata": {},
   "outputs": [
    {
     "name": "stdout",
     "output_type": "stream",
     "text": [
      "The square of 101 is 10201\n",
      "The square of 103 is 10609\n",
      "The square of 105 is 11025\n",
      "The square of 107 is 11449\n",
      "The square of 109 is 11881\n",
      "The square of 111 is 12321\n",
      "The square of 113 is 12769\n",
      "The square of 115 is 13225\n",
      "The square of 117 is 13689\n",
      "The square of 119 is 14161\n",
      "The square of 121 is 14641\n",
      "The square of 123 is 15129\n",
      "The square of 125 is 15625\n",
      "The square of 127 is 16129\n",
      "The square of 129 is 16641\n",
      "The square of 131 is 17161\n",
      "The square of 133 is 17689\n",
      "The square of 135 is 18225\n",
      "The square of 137 is 18769\n",
      "The square of 139 is 19321\n",
      "The square of 141 is 19881\n",
      "The square of 143 is 20449\n",
      "The square of 145 is 21025\n",
      "The square of 147 is 21609\n",
      "The square of 149 is 22201\n",
      "The square of 151 is 22801\n",
      "The square of 153 is 23409\n",
      "The square of 155 is 24025\n",
      "The square of 157 is 24649\n",
      "The square of 159 is 25281\n",
      "The square of 161 is 25921\n",
      "The square of 163 is 26569\n",
      "The square of 165 is 27225\n",
      "The square of 167 is 27889\n",
      "The square of 169 is 28561\n",
      "The square of 171 is 29241\n",
      "The square of 173 is 29929\n",
      "The square of 175 is 30625\n",
      "The square of 177 is 31329\n",
      "The square of 179 is 32041\n",
      "The square of 181 is 32761\n",
      "The square of 183 is 33489\n",
      "The square of 185 is 34225\n",
      "The square of 187 is 34969\n",
      "The square of 189 is 35721\n",
      "The square of 191 is 36481\n",
      "The square of 193 is 37249\n",
      "The square of 195 is 38025\n",
      "The square of 197 is 38809\n",
      "The square of 199 is 39601\n"
     ]
    }
   ],
   "source": [
    "# I am going to Use a for loop to iterate over the range of numbers\n",
    "# This script prints the squares of odd numbers between 100 and 200.\n",
    "for num in range(100, 201):\n",
    "    if num % 2 != 0:\n",
    "        sqr = num ** 2\n",
    "        print(f\"The square of {num} is {sqr}\")"
   ]
  },
  {
   "cell_type": "markdown",
   "id": "6f5a8758-0104-49e9-a4bb-034af3a60688",
   "metadata": {},
   "source": [
    "Prints the square of Even Numbers between 100 and 200."
   ]
  },
  {
   "cell_type": "code",
   "execution_count": 56,
   "id": "0041fe38-fef4-43f6-bedd-0aedeae85a20",
   "metadata": {},
   "outputs": [
    {
     "name": "stdout",
     "output_type": "stream",
     "text": [
      "The square of 100 is 10000\n",
      "The square of 102 is 10404\n",
      "The square of 104 is 10816\n",
      "The square of 106 is 11236\n",
      "The square of 108 is 11664\n",
      "The square of 110 is 12100\n",
      "The square of 112 is 12544\n",
      "The square of 114 is 12996\n",
      "The square of 116 is 13456\n",
      "The square of 118 is 13924\n",
      "The square of 120 is 14400\n",
      "The square of 122 is 14884\n",
      "The square of 124 is 15376\n",
      "The square of 126 is 15876\n",
      "The square of 128 is 16384\n",
      "The square of 130 is 16900\n",
      "The square of 132 is 17424\n",
      "The square of 134 is 17956\n",
      "The square of 136 is 18496\n",
      "The square of 138 is 19044\n",
      "The square of 140 is 19600\n",
      "The square of 142 is 20164\n",
      "The square of 144 is 20736\n",
      "The square of 146 is 21316\n",
      "The square of 148 is 21904\n",
      "The square of 150 is 22500\n",
      "The square of 152 is 23104\n",
      "The square of 154 is 23716\n",
      "The square of 156 is 24336\n",
      "The square of 158 is 24964\n",
      "The square of 160 is 25600\n",
      "The square of 162 is 26244\n",
      "The square of 164 is 26896\n",
      "The square of 166 is 27556\n",
      "The square of 168 is 28224\n",
      "The square of 170 is 28900\n",
      "The square of 172 is 29584\n",
      "The square of 174 is 30276\n",
      "The square of 176 is 30976\n",
      "The square of 178 is 31684\n",
      "The square of 180 is 32400\n",
      "The square of 182 is 33124\n",
      "The square of 184 is 33856\n",
      "The square of 186 is 34596\n",
      "The square of 188 is 35344\n",
      "The square of 190 is 36100\n",
      "The square of 192 is 36864\n",
      "The square of 194 is 37636\n",
      "The square of 196 is 38416\n",
      "The square of 198 is 39204\n",
      "The square of 200 is 40000\n"
     ]
    }
   ],
   "source": [
    "# I am going to Use a for loop to iterate over the range of numbers\n",
    "# This script prints the squares of all even numbers within the range of 100 to 200.\n",
    "\n",
    "for num in range(100, 201):\n",
    "    if num % 2 == 0:\n",
    "        sqr = num ** 2\n",
    "        print(f\"The square of {num} is {sqr}\")"
   ]
  },
  {
   "cell_type": "markdown",
   "id": "226b970d-f7e3-48e8-8697-8c93bc441adc",
   "metadata": {},
   "source": [
    "# Exercise 4: Word counter"
   ]
  },
  {
   "cell_type": "code",
   "execution_count": 68,
   "id": "7bc0909d-e012-4e9a-b3c8-69ffe5a80c4b",
   "metadata": {},
   "outputs": [
    {
     "name": "stdout",
     "output_type": "stream",
     "text": [
      "'this': 2\n",
      "'is': 1\n",
      "'a': 1\n",
      "'sample': 1\n",
      "'text': 2\n",
      "'will': 1\n",
      "'be': 1\n",
      "'used': 1\n",
      "'to': 1\n",
      "'demonstrate': 1\n",
      "'the': 1\n",
      "'word': 1\n",
      "'counter': 1\n"
     ]
    }
   ],
   "source": [
    "def count_words(input_text):\n",
    "    # Split the input text into individual words\n",
    "    words = input_text.split()\n",
    "\n",
    "    # Create a dictionary to store the word counts\n",
    "    word_counts = {}\n",
    "\n",
    "    # Iterate over the words and count their occurrences\n",
    "    for word in words:\n",
    "        # Remove punctuation from the word\n",
    "        word = word.strip('.,;:!?\"\\'')\n",
    "        # Convert the word to lowercase\n",
    "        word = word.lower()\n",
    "        # If the word is already in the dictionary, increment its count\n",
    "        if word in word_counts:\n",
    "            word_counts[word] += 1\n",
    "        # Otherwise, add the word to the dictionary with a count of 1\n",
    "        else:\n",
    "            word_counts[word] = 1\n",
    "\n",
    "    # Print the word counts\n",
    "    for word, count in word_counts.items():\n",
    "        print(f\"'{word}': {count}\")\n",
    "\n",
    "# Example usage\n",
    "input_text = \"This is a sample text. This text will be used to demonstrate the word counter.\"\n",
    "count_words(input_text)"
   ]
  },
  {
   "cell_type": "markdown",
   "id": "351fdc16-0673-4ec7-bd7a-85289735f78d",
   "metadata": {},
   "source": [
    "Here's how the program works:\n",
    "\n",
    "- The count_words function takes an input text as a string.\n",
    "- I split the input text into individual words using the split() method, which splits on whitespace characters by default.\n",
    "- I create an empty dictionary word_counts to store the word counts.\n",
    "- I iterate over the words and count their occurrences using a for loop.\n",
    "- For each word, I remove punctuation using the strip() method and convert the word to lowercase using the lower() method.\n",
    "- I check if the word is already in the word_counts dictionary. If it is, I increment its count by 1. If not, I add the word to the dictionary with a count of 1.\n",
    "- Finally, we print the word counts using a for loop that iterates over the word_counts dictionary."
   ]
  },
  {
   "cell_type": "markdown",
   "id": "be860e59-6477-47ac-b72d-4317134f015d",
   "metadata": {},
   "source": [
    "# Exercise 5: Check for Palindrome"
   ]
  },
  {
   "cell_type": "markdown",
   "id": "ad8e1cb9-29c0-4c96-917c-3d83c54baf3c",
   "metadata": {},
   "source": [
    "Write a Python function called is_palindrome that takes a string as input and returns True if the string is a palindrome, and False otherwise. A palindrome is a word, phrase, number, or other sequence of characters that reads the same forward and backward, ignoring spaces, punctuation, and capitalization."
   ]
  },
  {
   "cell_type": "code",
   "execution_count": 82,
   "id": "462429e8-a23e-4607-b97a-1c3c0127b673",
   "metadata": {},
   "outputs": [
    {
     "name": "stdout",
     "output_type": "stream",
     "text": [
      "False\n",
      "True\n"
     ]
    }
   ],
   "source": [
    "def is_palindrome(input_string):\n",
    "    new_string = input_string.lower().replace(\" \", \"\")\n",
    "    reverse_string = new_string[::-1]\n",
    "    if new_string == reverse_string:\n",
    "        return True\n",
    "    return False\n",
    "print(is_palindrome(\"ABC\"))  # Returns: False\n",
    "print(is_palindrome(\"racecar\"))  # Returns: True"
   ]
  },
  {
   "cell_type": "markdown",
   "id": "4eb7f692-3986-47ba-8d66-24f3f2750c50",
   "metadata": {},
   "source": [
    "- The is_palindrome function converts the input string to lowercase, removes any spaces, and creates a new string with the reversed contents of the initial string (ignoring cases and spaces).\n",
    "- If both strings match, the function returns True, indicating that the input string is indeed a palindrome. Otherwise, the function returns False."
   ]
  }
 ],
 "metadata": {
  "kernelspec": {
   "display_name": "Python 3 (ipykernel)",
   "language": "python",
   "name": "python3"
  },
  "language_info": {
   "codemirror_mode": {
    "name": "ipython",
    "version": 3
   },
   "file_extension": ".py",
   "mimetype": "text/x-python",
   "name": "python",
   "nbconvert_exporter": "python",
   "pygments_lexer": "ipython3",
   "version": "3.11.7"
  }
 },
 "nbformat": 4,
 "nbformat_minor": 5
}
